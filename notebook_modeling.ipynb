{
 "cells": [
  {
   "cell_type": "markdown",
   "id": "c355dc25",
   "metadata": {
    "toc": true
   },
   "source": [
    "<h1>Table of Contents<span class=\"tocSkip\"></span></h1>\n",
    "<div class=\"toc\"><ul class=\"toc-item\"><li><span><a href=\"#notebook_protocole-:-Introduction\" data-toc-modified-id=\"notebook_protocole-:-Introduction-1\"><span class=\"toc-item-num\">1&nbsp;&nbsp;</span>notebook_protocole : Introduction</a></span></li><li><span><a href=\"#Projet-étape-par-étape\" data-toc-modified-id=\"Projet-étape-par-étape-2\"><span class=\"toc-item-num\">2&nbsp;&nbsp;</span>Projet étape par étape</a></span><ul class=\"toc-item\"><li><ul class=\"toc-item\"><li><span><a href=\"#Import-the-libraries\" data-toc-modified-id=\"Import-the-libraries-2.0.1\"><span class=\"toc-item-num\">2.0.1&nbsp;&nbsp;</span>Import the libraries</a></span></li><li><span><a href=\"#Import-data\" data-toc-modified-id=\"Import-data-2.0.2\"><span class=\"toc-item-num\">2.0.2&nbsp;&nbsp;</span>Import data</a></span></li><li><span><a href=\"#EDA-rapide\" data-toc-modified-id=\"EDA-rapide-2.0.3\"><span class=\"toc-item-num\">2.0.3&nbsp;&nbsp;</span>EDA rapide</a></span></li><li><span><a href=\"#Preprocessing\" data-toc-modified-id=\"Preprocessing-2.0.4\"><span class=\"toc-item-num\">2.0.4&nbsp;&nbsp;</span>Preprocessing</a></span></li><li><span><a href=\"#Modeling\" data-toc-modified-id=\"Modeling-2.0.5\"><span class=\"toc-item-num\">2.0.5&nbsp;&nbsp;</span>Modeling</a></span></li><li><span><a href=\"#NEW-!-Amélioration-du-modèle-(Tuning)\" data-toc-modified-id=\"NEW-!-Amélioration-du-modèle-(Tuning)-2.0.6\"><span class=\"toc-item-num\">2.0.6&nbsp;&nbsp;</span>NEW ! Amélioration du modèle (Tuning)</a></span></li><li><span><a href=\"#Save-model\" data-toc-modified-id=\"Save-model-2.0.7\"><span class=\"toc-item-num\">2.0.7&nbsp;&nbsp;</span>Save model</a></span></li><li><span><a href=\"#After-GridSearchCV,-I-put-new-model-with-best-hyperparameters\" data-toc-modified-id=\"After-GridSearchCV,-I-put-new-model-with-best-hyperparameters-2.0.8\"><span class=\"toc-item-num\">2.0.8&nbsp;&nbsp;</span>After GridSearchCV, I put new model with best hyperparameters</a></span></li></ul></li><li><span><a href=\"#Implementation-of-unit-tests-exemple\" data-toc-modified-id=\"Implementation-of-unit-tests-exemple-2.1\"><span class=\"toc-item-num\">2.1&nbsp;&nbsp;</span>Implementation of unit tests exemple</a></span></li></ul></li></ul></div>"
   ]
  },
  {
   "cell_type": "markdown",
   "id": "afbcf3d0",
   "metadata": {},
   "source": [
    "# notebook_protocole : Introduction"
   ]
  },
  {
   "cell_type": "markdown",
   "id": "c3ee4c1e",
   "metadata": {},
   "source": [
    "Dans le cadre d'un projet Simplon, nous avons travaillé avec mon collègue simplonien Jonathan sur la confection d'un modèle de prédiction pour savoir si une banque risque de faire faillite ou non.  \n",
    "\n",
    "Pour cela, nous avons à notre disposition une base de donnée comportant des indicateurs définis par les règlementations commerciales de la Bourse.  \n",
    "\n",
    "Mon but ici est de représenter le même modèle mais en lui apportant une amélioration pour remplir les compétences requises pour le E2 (Présenter un modèle amélioré et vérifier qu'il passe les tests unitaires)  "
   ]
  },
  {
   "cell_type": "markdown",
   "id": "034dddba",
   "metadata": {},
   "source": [
    "# Projet étape par étape"
   ]
  },
  {
   "cell_type": "markdown",
   "id": "b9b04d07",
   "metadata": {},
   "source": [
    "### Import the libraries"
   ]
  },
  {
   "cell_type": "code",
   "execution_count": 3,
   "id": "0fee3e0c",
   "metadata": {},
   "outputs": [],
   "source": [
    "# Basic imports\n",
    "import pickle\n",
    "import pandas as pd\n",
    "import numpy as np\n",
    "\n",
    "#viz\n",
    "import matplotlib.pyplot as plt\n",
    "import seaborn as sns\n",
    "\n",
    "import sklearn\n",
    "# Scikit learn libraries\n",
    "from sklearn.model_selection import train_test_split\n",
    "from sklearn.preprocessing import StandardScaler , MinMaxScaler\n",
    "#class ACP\n",
    "from sklearn.decomposition import PCA\n",
    "from sklearn.preprocessing import scale\n",
    "from sklearn import decomposition\n",
    "from sklearn import preprocessing\n",
    "\n",
    "# Preprocessing & Model\n",
    "from sklearn.model_selection import train_test_split\n",
    "from sklearn.ensemble import RandomForestClassifier\n",
    "\n",
    "# Tuning\n",
    "from sklearn.model_selection import GridSearchCV\n",
    "from sklearn.model_selection import RandomizedSearchCV\n",
    "from scipy import stats\n",
    "from sklearn.svm import SVC\n",
    "\n",
    "#pipeline\n",
    "from sklearn.pipeline import Pipeline\n",
    "from imblearn.pipeline import Pipeline as imbpipeline\n",
    "\n",
    "#imblearn library and SMOTE\n",
    "import imblearn\n",
    "from imblearn.over_sampling import SMOTE\n",
    "from imblearn.under_sampling import RandomUnderSampler\n",
    "\n",
    "#report\n",
    "from sklearn.metrics import accuracy_score, precision_score, recall_score, f1_score, roc_curve,auc,\\\n",
    "    confusion_matrix, classification_report\n",
    "\n",
    "import warnings\n",
    "warnings.filterwarnings(\"ignore\")"
   ]
  },
  {
   "cell_type": "markdown",
   "id": "888b6697",
   "metadata": {},
   "source": [
    "### Import data"
   ]
  },
  {
   "cell_type": "code",
   "execution_count": 4,
   "id": "8be83f18",
   "metadata": {
    "scrolled": true
   },
   "outputs": [
    {
     "data": {
      "text/html": [
       "<div>\n",
       "<style scoped>\n",
       "    .dataframe tbody tr th:only-of-type {\n",
       "        vertical-align: middle;\n",
       "    }\n",
       "\n",
       "    .dataframe tbody tr th {\n",
       "        vertical-align: top;\n",
       "    }\n",
       "\n",
       "    .dataframe thead th {\n",
       "        text-align: right;\n",
       "    }\n",
       "</style>\n",
       "<table border=\"1\" class=\"dataframe\">\n",
       "  <thead>\n",
       "    <tr style=\"text-align: right;\">\n",
       "      <th></th>\n",
       "      <th>Bankrupt?</th>\n",
       "      <th>ROA(C) before interest and depreciation before interest</th>\n",
       "      <th>ROA(A) before interest and % after tax</th>\n",
       "      <th>ROA(B) before interest and depreciation after tax</th>\n",
       "      <th>Operating Gross Margin</th>\n",
       "      <th>Realized Sales Gross Margin</th>\n",
       "      <th>Operating Profit Rate</th>\n",
       "      <th>Pre-tax net Interest Rate</th>\n",
       "      <th>After-tax net Interest Rate</th>\n",
       "      <th>Non-industry income and expenditure/revenue</th>\n",
       "      <th>...</th>\n",
       "      <th>Net Income to Total Assets</th>\n",
       "      <th>Total assets to GNP price</th>\n",
       "      <th>No-credit Interval</th>\n",
       "      <th>Gross Profit to Sales</th>\n",
       "      <th>Net Income to Stockholder's Equity</th>\n",
       "      <th>Liability to Equity</th>\n",
       "      <th>Degree of Financial Leverage (DFL)</th>\n",
       "      <th>Interest Coverage Ratio (Interest expense to EBIT)</th>\n",
       "      <th>Net Income Flag</th>\n",
       "      <th>Equity to Liability</th>\n",
       "    </tr>\n",
       "  </thead>\n",
       "  <tbody>\n",
       "    <tr>\n",
       "      <th>0</th>\n",
       "      <td>1</td>\n",
       "      <td>0.370594</td>\n",
       "      <td>0.424389</td>\n",
       "      <td>0.405750</td>\n",
       "      <td>0.601457</td>\n",
       "      <td>0.601457</td>\n",
       "      <td>0.998969</td>\n",
       "      <td>0.796887</td>\n",
       "      <td>0.808809</td>\n",
       "      <td>0.302646</td>\n",
       "      <td>...</td>\n",
       "      <td>0.716845</td>\n",
       "      <td>0.009219</td>\n",
       "      <td>0.622879</td>\n",
       "      <td>0.601453</td>\n",
       "      <td>0.827890</td>\n",
       "      <td>0.290202</td>\n",
       "      <td>0.026601</td>\n",
       "      <td>0.564050</td>\n",
       "      <td>1</td>\n",
       "      <td>0.016469</td>\n",
       "    </tr>\n",
       "    <tr>\n",
       "      <th>1</th>\n",
       "      <td>1</td>\n",
       "      <td>0.464291</td>\n",
       "      <td>0.538214</td>\n",
       "      <td>0.516730</td>\n",
       "      <td>0.610235</td>\n",
       "      <td>0.610235</td>\n",
       "      <td>0.998946</td>\n",
       "      <td>0.797380</td>\n",
       "      <td>0.809301</td>\n",
       "      <td>0.303556</td>\n",
       "      <td>...</td>\n",
       "      <td>0.795297</td>\n",
       "      <td>0.008323</td>\n",
       "      <td>0.623652</td>\n",
       "      <td>0.610237</td>\n",
       "      <td>0.839969</td>\n",
       "      <td>0.283846</td>\n",
       "      <td>0.264577</td>\n",
       "      <td>0.570175</td>\n",
       "      <td>1</td>\n",
       "      <td>0.020794</td>\n",
       "    </tr>\n",
       "    <tr>\n",
       "      <th>2</th>\n",
       "      <td>1</td>\n",
       "      <td>0.426071</td>\n",
       "      <td>0.499019</td>\n",
       "      <td>0.472295</td>\n",
       "      <td>0.601450</td>\n",
       "      <td>0.601364</td>\n",
       "      <td>0.998857</td>\n",
       "      <td>0.796403</td>\n",
       "      <td>0.808388</td>\n",
       "      <td>0.302035</td>\n",
       "      <td>...</td>\n",
       "      <td>0.774670</td>\n",
       "      <td>0.040003</td>\n",
       "      <td>0.623841</td>\n",
       "      <td>0.601449</td>\n",
       "      <td>0.836774</td>\n",
       "      <td>0.290189</td>\n",
       "      <td>0.026555</td>\n",
       "      <td>0.563706</td>\n",
       "      <td>1</td>\n",
       "      <td>0.016474</td>\n",
       "    </tr>\n",
       "    <tr>\n",
       "      <th>3</th>\n",
       "      <td>1</td>\n",
       "      <td>0.399844</td>\n",
       "      <td>0.451265</td>\n",
       "      <td>0.457733</td>\n",
       "      <td>0.583541</td>\n",
       "      <td>0.583541</td>\n",
       "      <td>0.998700</td>\n",
       "      <td>0.796967</td>\n",
       "      <td>0.808966</td>\n",
       "      <td>0.303350</td>\n",
       "      <td>...</td>\n",
       "      <td>0.739555</td>\n",
       "      <td>0.003252</td>\n",
       "      <td>0.622929</td>\n",
       "      <td>0.583538</td>\n",
       "      <td>0.834697</td>\n",
       "      <td>0.281721</td>\n",
       "      <td>0.026697</td>\n",
       "      <td>0.564663</td>\n",
       "      <td>1</td>\n",
       "      <td>0.023982</td>\n",
       "    </tr>\n",
       "    <tr>\n",
       "      <th>4</th>\n",
       "      <td>1</td>\n",
       "      <td>0.465022</td>\n",
       "      <td>0.538432</td>\n",
       "      <td>0.522298</td>\n",
       "      <td>0.598783</td>\n",
       "      <td>0.598783</td>\n",
       "      <td>0.998973</td>\n",
       "      <td>0.797366</td>\n",
       "      <td>0.809304</td>\n",
       "      <td>0.303475</td>\n",
       "      <td>...</td>\n",
       "      <td>0.795016</td>\n",
       "      <td>0.003878</td>\n",
       "      <td>0.623521</td>\n",
       "      <td>0.598782</td>\n",
       "      <td>0.839973</td>\n",
       "      <td>0.278514</td>\n",
       "      <td>0.024752</td>\n",
       "      <td>0.575617</td>\n",
       "      <td>1</td>\n",
       "      <td>0.035490</td>\n",
       "    </tr>\n",
       "    <tr>\n",
       "      <th>...</th>\n",
       "      <td>...</td>\n",
       "      <td>...</td>\n",
       "      <td>...</td>\n",
       "      <td>...</td>\n",
       "      <td>...</td>\n",
       "      <td>...</td>\n",
       "      <td>...</td>\n",
       "      <td>...</td>\n",
       "      <td>...</td>\n",
       "      <td>...</td>\n",
       "      <td>...</td>\n",
       "      <td>...</td>\n",
       "      <td>...</td>\n",
       "      <td>...</td>\n",
       "      <td>...</td>\n",
       "      <td>...</td>\n",
       "      <td>...</td>\n",
       "      <td>...</td>\n",
       "      <td>...</td>\n",
       "      <td>...</td>\n",
       "      <td>...</td>\n",
       "    </tr>\n",
       "    <tr>\n",
       "      <th>6814</th>\n",
       "      <td>0</td>\n",
       "      <td>0.493687</td>\n",
       "      <td>0.539468</td>\n",
       "      <td>0.543230</td>\n",
       "      <td>0.604455</td>\n",
       "      <td>0.604462</td>\n",
       "      <td>0.998992</td>\n",
       "      <td>0.797409</td>\n",
       "      <td>0.809331</td>\n",
       "      <td>0.303510</td>\n",
       "      <td>...</td>\n",
       "      <td>0.799927</td>\n",
       "      <td>0.000466</td>\n",
       "      <td>0.623620</td>\n",
       "      <td>0.604455</td>\n",
       "      <td>0.840359</td>\n",
       "      <td>0.279606</td>\n",
       "      <td>0.027064</td>\n",
       "      <td>0.566193</td>\n",
       "      <td>1</td>\n",
       "      <td>0.029890</td>\n",
       "    </tr>\n",
       "    <tr>\n",
       "      <th>6815</th>\n",
       "      <td>0</td>\n",
       "      <td>0.475162</td>\n",
       "      <td>0.538269</td>\n",
       "      <td>0.524172</td>\n",
       "      <td>0.598308</td>\n",
       "      <td>0.598308</td>\n",
       "      <td>0.998992</td>\n",
       "      <td>0.797414</td>\n",
       "      <td>0.809327</td>\n",
       "      <td>0.303520</td>\n",
       "      <td>...</td>\n",
       "      <td>0.799748</td>\n",
       "      <td>0.001959</td>\n",
       "      <td>0.623931</td>\n",
       "      <td>0.598306</td>\n",
       "      <td>0.840306</td>\n",
       "      <td>0.278132</td>\n",
       "      <td>0.027009</td>\n",
       "      <td>0.566018</td>\n",
       "      <td>1</td>\n",
       "      <td>0.038284</td>\n",
       "    </tr>\n",
       "    <tr>\n",
       "      <th>6816</th>\n",
       "      <td>0</td>\n",
       "      <td>0.472725</td>\n",
       "      <td>0.533744</td>\n",
       "      <td>0.520638</td>\n",
       "      <td>0.610444</td>\n",
       "      <td>0.610213</td>\n",
       "      <td>0.998984</td>\n",
       "      <td>0.797401</td>\n",
       "      <td>0.809317</td>\n",
       "      <td>0.303512</td>\n",
       "      <td>...</td>\n",
       "      <td>0.797778</td>\n",
       "      <td>0.002840</td>\n",
       "      <td>0.624156</td>\n",
       "      <td>0.610441</td>\n",
       "      <td>0.840138</td>\n",
       "      <td>0.275789</td>\n",
       "      <td>0.026791</td>\n",
       "      <td>0.565158</td>\n",
       "      <td>1</td>\n",
       "      <td>0.097649</td>\n",
       "    </tr>\n",
       "    <tr>\n",
       "      <th>6817</th>\n",
       "      <td>0</td>\n",
       "      <td>0.506264</td>\n",
       "      <td>0.559911</td>\n",
       "      <td>0.554045</td>\n",
       "      <td>0.607850</td>\n",
       "      <td>0.607850</td>\n",
       "      <td>0.999074</td>\n",
       "      <td>0.797500</td>\n",
       "      <td>0.809399</td>\n",
       "      <td>0.303498</td>\n",
       "      <td>...</td>\n",
       "      <td>0.811808</td>\n",
       "      <td>0.002837</td>\n",
       "      <td>0.623957</td>\n",
       "      <td>0.607846</td>\n",
       "      <td>0.841084</td>\n",
       "      <td>0.277547</td>\n",
       "      <td>0.026822</td>\n",
       "      <td>0.565302</td>\n",
       "      <td>1</td>\n",
       "      <td>0.044009</td>\n",
       "    </tr>\n",
       "    <tr>\n",
       "      <th>6818</th>\n",
       "      <td>0</td>\n",
       "      <td>0.493053</td>\n",
       "      <td>0.570105</td>\n",
       "      <td>0.549548</td>\n",
       "      <td>0.627409</td>\n",
       "      <td>0.627409</td>\n",
       "      <td>0.998080</td>\n",
       "      <td>0.801987</td>\n",
       "      <td>0.813800</td>\n",
       "      <td>0.313415</td>\n",
       "      <td>...</td>\n",
       "      <td>0.815956</td>\n",
       "      <td>0.000707</td>\n",
       "      <td>0.626680</td>\n",
       "      <td>0.627408</td>\n",
       "      <td>0.841019</td>\n",
       "      <td>0.275114</td>\n",
       "      <td>0.026793</td>\n",
       "      <td>0.565167</td>\n",
       "      <td>1</td>\n",
       "      <td>0.233902</td>\n",
       "    </tr>\n",
       "  </tbody>\n",
       "</table>\n",
       "<p>6819 rows × 96 columns</p>\n",
       "</div>"
      ],
      "text/plain": [
       "      Bankrupt?   ROA(C) before interest and depreciation before interest  \\\n",
       "0             1                                           0.370594          \n",
       "1             1                                           0.464291          \n",
       "2             1                                           0.426071          \n",
       "3             1                                           0.399844          \n",
       "4             1                                           0.465022          \n",
       "...         ...                                                ...          \n",
       "6814          0                                           0.493687          \n",
       "6815          0                                           0.475162          \n",
       "6816          0                                           0.472725          \n",
       "6817          0                                           0.506264          \n",
       "6818          0                                           0.493053          \n",
       "\n",
       "       ROA(A) before interest and % after tax  \\\n",
       "0                                    0.424389   \n",
       "1                                    0.538214   \n",
       "2                                    0.499019   \n",
       "3                                    0.451265   \n",
       "4                                    0.538432   \n",
       "...                                       ...   \n",
       "6814                                 0.539468   \n",
       "6815                                 0.538269   \n",
       "6816                                 0.533744   \n",
       "6817                                 0.559911   \n",
       "6818                                 0.570105   \n",
       "\n",
       "       ROA(B) before interest and depreciation after tax  \\\n",
       "0                                              0.405750    \n",
       "1                                              0.516730    \n",
       "2                                              0.472295    \n",
       "3                                              0.457733    \n",
       "4                                              0.522298    \n",
       "...                                                 ...    \n",
       "6814                                           0.543230    \n",
       "6815                                           0.524172    \n",
       "6816                                           0.520638    \n",
       "6817                                           0.554045    \n",
       "6818                                           0.549548    \n",
       "\n",
       "       Operating Gross Margin   Realized Sales Gross Margin  \\\n",
       "0                    0.601457                      0.601457   \n",
       "1                    0.610235                      0.610235   \n",
       "2                    0.601450                      0.601364   \n",
       "3                    0.583541                      0.583541   \n",
       "4                    0.598783                      0.598783   \n",
       "...                       ...                           ...   \n",
       "6814                 0.604455                      0.604462   \n",
       "6815                 0.598308                      0.598308   \n",
       "6816                 0.610444                      0.610213   \n",
       "6817                 0.607850                      0.607850   \n",
       "6818                 0.627409                      0.627409   \n",
       "\n",
       "       Operating Profit Rate   Pre-tax net Interest Rate  \\\n",
       "0                   0.998969                    0.796887   \n",
       "1                   0.998946                    0.797380   \n",
       "2                   0.998857                    0.796403   \n",
       "3                   0.998700                    0.796967   \n",
       "4                   0.998973                    0.797366   \n",
       "...                      ...                         ...   \n",
       "6814                0.998992                    0.797409   \n",
       "6815                0.998992                    0.797414   \n",
       "6816                0.998984                    0.797401   \n",
       "6817                0.999074                    0.797500   \n",
       "6818                0.998080                    0.801987   \n",
       "\n",
       "       After-tax net Interest Rate  \\\n",
       "0                         0.808809   \n",
       "1                         0.809301   \n",
       "2                         0.808388   \n",
       "3                         0.808966   \n",
       "4                         0.809304   \n",
       "...                            ...   \n",
       "6814                      0.809331   \n",
       "6815                      0.809327   \n",
       "6816                      0.809317   \n",
       "6817                      0.809399   \n",
       "6818                      0.813800   \n",
       "\n",
       "       Non-industry income and expenditure/revenue  ...  \\\n",
       "0                                         0.302646  ...   \n",
       "1                                         0.303556  ...   \n",
       "2                                         0.302035  ...   \n",
       "3                                         0.303350  ...   \n",
       "4                                         0.303475  ...   \n",
       "...                                            ...  ...   \n",
       "6814                                      0.303510  ...   \n",
       "6815                                      0.303520  ...   \n",
       "6816                                      0.303512  ...   \n",
       "6817                                      0.303498  ...   \n",
       "6818                                      0.313415  ...   \n",
       "\n",
       "       Net Income to Total Assets   Total assets to GNP price  \\\n",
       "0                        0.716845                    0.009219   \n",
       "1                        0.795297                    0.008323   \n",
       "2                        0.774670                    0.040003   \n",
       "3                        0.739555                    0.003252   \n",
       "4                        0.795016                    0.003878   \n",
       "...                           ...                         ...   \n",
       "6814                     0.799927                    0.000466   \n",
       "6815                     0.799748                    0.001959   \n",
       "6816                     0.797778                    0.002840   \n",
       "6817                     0.811808                    0.002837   \n",
       "6818                     0.815956                    0.000707   \n",
       "\n",
       "       No-credit Interval   Gross Profit to Sales  \\\n",
       "0                0.622879                0.601453   \n",
       "1                0.623652                0.610237   \n",
       "2                0.623841                0.601449   \n",
       "3                0.622929                0.583538   \n",
       "4                0.623521                0.598782   \n",
       "...                   ...                     ...   \n",
       "6814             0.623620                0.604455   \n",
       "6815             0.623931                0.598306   \n",
       "6816             0.624156                0.610441   \n",
       "6817             0.623957                0.607846   \n",
       "6818             0.626680                0.627408   \n",
       "\n",
       "       Net Income to Stockholder's Equity   Liability to Equity  \\\n",
       "0                                0.827890              0.290202   \n",
       "1                                0.839969              0.283846   \n",
       "2                                0.836774              0.290189   \n",
       "3                                0.834697              0.281721   \n",
       "4                                0.839973              0.278514   \n",
       "...                                   ...                   ...   \n",
       "6814                             0.840359              0.279606   \n",
       "6815                             0.840306              0.278132   \n",
       "6816                             0.840138              0.275789   \n",
       "6817                             0.841084              0.277547   \n",
       "6818                             0.841019              0.275114   \n",
       "\n",
       "       Degree of Financial Leverage (DFL)  \\\n",
       "0                                0.026601   \n",
       "1                                0.264577   \n",
       "2                                0.026555   \n",
       "3                                0.026697   \n",
       "4                                0.024752   \n",
       "...                                   ...   \n",
       "6814                             0.027064   \n",
       "6815                             0.027009   \n",
       "6816                             0.026791   \n",
       "6817                             0.026822   \n",
       "6818                             0.026793   \n",
       "\n",
       "       Interest Coverage Ratio (Interest expense to EBIT)   Net Income Flag  \\\n",
       "0                                              0.564050                   1   \n",
       "1                                              0.570175                   1   \n",
       "2                                              0.563706                   1   \n",
       "3                                              0.564663                   1   \n",
       "4                                              0.575617                   1   \n",
       "...                                                 ...                 ...   \n",
       "6814                                           0.566193                   1   \n",
       "6815                                           0.566018                   1   \n",
       "6816                                           0.565158                   1   \n",
       "6817                                           0.565302                   1   \n",
       "6818                                           0.565167                   1   \n",
       "\n",
       "       Equity to Liability  \n",
       "0                 0.016469  \n",
       "1                 0.020794  \n",
       "2                 0.016474  \n",
       "3                 0.023982  \n",
       "4                 0.035490  \n",
       "...                    ...  \n",
       "6814              0.029890  \n",
       "6815              0.038284  \n",
       "6816              0.097649  \n",
       "6817              0.044009  \n",
       "6818              0.233902  \n",
       "\n",
       "[6819 rows x 96 columns]"
      ]
     },
     "execution_count": 4,
     "metadata": {},
     "output_type": "execute_result"
    }
   ],
   "source": [
    "df = pd.read_csv('data/data.csv')\n",
    "df"
   ]
  },
  {
   "cell_type": "markdown",
   "id": "8c8f5aaf",
   "metadata": {},
   "source": [
    "### EDA rapide"
   ]
  },
  {
   "cell_type": "code",
   "execution_count": 5,
   "id": "946b577a",
   "metadata": {
    "scrolled": false
   },
   "outputs": [],
   "source": [
    "#replace the column's names\n",
    "df.columns = [c.replace(\" \",\"\", 1) if c.startswith(' ') else c for c in df.columns]\n",
    "\n",
    "#drop target and categorial's columns\n",
    "model = df.drop(df[['Bankrupt?', 'Cash flow rate', 'Net Income Flag']],axis =1)"
   ]
  },
  {
   "cell_type": "code",
   "execution_count": 6,
   "id": "748bb965",
   "metadata": {},
   "outputs": [],
   "source": [
    "# Splitting between column with max value <= 1 and max value > 1\n",
    "# Create 2 lists to store columns name/values\n",
    "max_1 = []\n",
    "max_above_1 = []\n",
    "\n",
    "#Looping through the dataset, populating lists above\n",
    "for column in model:\n",
    "    if model[column].max() <= 1:\n",
    "        max_1.append(model[column])\n",
    "    else:\n",
    "        max_above_1.append(model[column])\n",
    "    \n",
    "\n",
    "model_2 = pd.DataFrame(max_1).T\n",
    "model_3 = pd.DataFrame(max_above_1).T"
   ]
  },
  {
   "cell_type": "markdown",
   "id": "db52d400",
   "metadata": {},
   "source": [
    "### Preprocessing"
   ]
  },
  {
   "cell_type": "code",
   "execution_count": 7,
   "id": "8b687d29",
   "metadata": {},
   "outputs": [],
   "source": [
    "#use StandardScaler() columns in model_2\n",
    "sc = StandardScaler()\n",
    "model = sc.fit_transform(model_2.iloc[:,1:])\n",
    "df_sc = pd.DataFrame(model,columns= model_2.iloc[:,1:].columns)\n",
    "\n",
    "df_sc[['Bankrupt?','Cash flow rate', 'Net Income Flag']] = df[['Bankrupt?', 'Cash flow rate', 'Net Income Flag']]"
   ]
  },
  {
   "cell_type": "code",
   "execution_count": 8,
   "id": "104b0f5f",
   "metadata": {},
   "outputs": [],
   "source": [
    "#use MinMaxScaler() columns in model_3\n",
    "minmax = MinMaxScaler()\n",
    "model = minmax.fit_transform(model_3.iloc[:,1:])\n",
    "df_minmax = pd.DataFrame(df,columns= model_3.iloc[:,1:].columns)\n",
    "#take target in df because the targets remove to df_30 (targets <= 1)\n",
    "df_minmax['Bankrupt?'] = df['Bankrupt?']"
   ]
  },
  {
   "cell_type": "code",
   "execution_count": 9,
   "id": "5141e34b",
   "metadata": {},
   "outputs": [],
   "source": [
    "# You get two dataset\n",
    "# Apply the PCA on the two dataframes\n",
    "\n",
    "# command definition for df_sc\n",
    "pca = PCA(n_components=5)\n",
    "# selection of the quantitatives variables\n",
    "dat= df_sc.drop(df_sc[['Bankrupt?','Cash flow rate', 'Net Income Flag']], axis=1)\n",
    "# reduction\n",
    "data = pd.DataFrame(scale(dat),columns=dat.columns)\n",
    "# main components\n",
    "C = pca.fit(data).transform(data)\n",
    "\n",
    "# back to DataFrame\n",
    "sc_pca = pd.DataFrame(C)\n",
    "sc_pca[['Bankrupt?', 'Cash flow rate', 'Net Income Flag']] = df[['Bankrupt?', 'Cash flow rate', 'Net Income Flag']]"
   ]
  },
  {
   "cell_type": "code",
   "execution_count": 10,
   "id": "ebd0223f",
   "metadata": {},
   "outputs": [],
   "source": [
    "# command definition for df_minmax\n",
    "pca = PCA(n_components=5)\n",
    "# selection of the quantitatives variables\n",
    "dat= df_minmax.drop(df_minmax[['Bankrupt?']], axis=1)\n",
    "# reduction\n",
    "data = pd.DataFrame(scale(dat),columns=dat.columns)\n",
    "# main components\n",
    "C = pca.fit(data).transform(data)\n",
    "\n",
    "# back to DataFrame\n",
    "minmax_pca = pd.DataFrame(C)\n",
    "minmax_pca[['Bankrupt?']] = df[['Bankrupt?']]"
   ]
  },
  {
   "cell_type": "code",
   "execution_count": 11,
   "id": "7081b34f",
   "metadata": {},
   "outputs": [],
   "source": [
    "# Combine the two df and remove the doubled target\n",
    "data_full = sc_pca.merge(minmax_pca, left_index=True, right_index= True, how='left')\n",
    "\n",
    "data_full = data_full.drop('Bankrupt?_y',axis =1)"
   ]
  },
  {
   "cell_type": "code",
   "execution_count": 12,
   "id": "b4727d7c",
   "metadata": {
    "scrolled": true
   },
   "outputs": [
    {
     "data": {
      "text/html": [
       "<div>\n",
       "<style scoped>\n",
       "    .dataframe tbody tr th:only-of-type {\n",
       "        vertical-align: middle;\n",
       "    }\n",
       "\n",
       "    .dataframe tbody tr th {\n",
       "        vertical-align: top;\n",
       "    }\n",
       "\n",
       "    .dataframe thead th {\n",
       "        text-align: right;\n",
       "    }\n",
       "</style>\n",
       "<table border=\"1\" class=\"dataframe\">\n",
       "  <thead>\n",
       "    <tr style=\"text-align: right;\">\n",
       "      <th></th>\n",
       "      <th>0_x</th>\n",
       "      <th>1_x</th>\n",
       "      <th>2_x</th>\n",
       "      <th>3_x</th>\n",
       "      <th>4_x</th>\n",
       "      <th>Bankrupt?_x</th>\n",
       "      <th>Cash flow rate</th>\n",
       "      <th>Net Income Flag</th>\n",
       "      <th>0_y</th>\n",
       "      <th>1_y</th>\n",
       "      <th>2_y</th>\n",
       "      <th>3_y</th>\n",
       "      <th>4_y</th>\n",
       "    </tr>\n",
       "  </thead>\n",
       "  <tbody>\n",
       "    <tr>\n",
       "      <th>0</th>\n",
       "      <td>7.002416</td>\n",
       "      <td>0.210639</td>\n",
       "      <td>0.518012</td>\n",
       "      <td>1.047195</td>\n",
       "      <td>-0.753040</td>\n",
       "      <td>1</td>\n",
       "      <td>0.458143</td>\n",
       "      <td>1</td>\n",
       "      <td>-0.689678</td>\n",
       "      <td>0.467495</td>\n",
       "      <td>0.346695</td>\n",
       "      <td>0.248471</td>\n",
       "      <td>-0.502879</td>\n",
       "    </tr>\n",
       "    <tr>\n",
       "      <th>1</th>\n",
       "      <td>2.515780</td>\n",
       "      <td>-1.001405</td>\n",
       "      <td>2.796927</td>\n",
       "      <td>1.254708</td>\n",
       "      <td>-1.625954</td>\n",
       "      <td>1</td>\n",
       "      <td>0.461867</td>\n",
       "      <td>1</td>\n",
       "      <td>-0.372723</td>\n",
       "      <td>-0.160292</td>\n",
       "      <td>-0.051161</td>\n",
       "      <td>-0.304293</td>\n",
       "      <td>0.700482</td>\n",
       "    </tr>\n",
       "    <tr>\n",
       "      <th>2</th>\n",
       "      <td>3.892479</td>\n",
       "      <td>-0.445196</td>\n",
       "      <td>0.329887</td>\n",
       "      <td>0.553487</td>\n",
       "      <td>-0.646255</td>\n",
       "      <td>1</td>\n",
       "      <td>0.458521</td>\n",
       "      <td>1</td>\n",
       "      <td>0.664759</td>\n",
       "      <td>0.629933</td>\n",
       "      <td>5.825501</td>\n",
       "      <td>-3.682142</td>\n",
       "      <td>1.096737</td>\n",
       "    </tr>\n",
       "    <tr>\n",
       "      <th>3</th>\n",
       "      <td>5.358008</td>\n",
       "      <td>-1.373353</td>\n",
       "      <td>1.278496</td>\n",
       "      <td>1.082887</td>\n",
       "      <td>-1.146178</td>\n",
       "      <td>1</td>\n",
       "      <td>0.465705</td>\n",
       "      <td>1</td>\n",
       "      <td>-1.441261</td>\n",
       "      <td>0.396984</td>\n",
       "      <td>0.302307</td>\n",
       "      <td>-0.830670</td>\n",
       "      <td>0.278216</td>\n",
       "    </tr>\n",
       "    <tr>\n",
       "      <th>4</th>\n",
       "      <td>2.196216</td>\n",
       "      <td>-0.606589</td>\n",
       "      <td>-0.327225</td>\n",
       "      <td>0.466411</td>\n",
       "      <td>-0.303599</td>\n",
       "      <td>1</td>\n",
       "      <td>0.462746</td>\n",
       "      <td>1</td>\n",
       "      <td>-1.732286</td>\n",
       "      <td>0.908610</td>\n",
       "      <td>0.346146</td>\n",
       "      <td>0.269552</td>\n",
       "      <td>-0.634163</td>\n",
       "    </tr>\n",
       "    <tr>\n",
       "      <th>...</th>\n",
       "      <td>...</td>\n",
       "      <td>...</td>\n",
       "      <td>...</td>\n",
       "      <td>...</td>\n",
       "      <td>...</td>\n",
       "      <td>...</td>\n",
       "      <td>...</td>\n",
       "      <td>...</td>\n",
       "      <td>...</td>\n",
       "      <td>...</td>\n",
       "      <td>...</td>\n",
       "      <td>...</td>\n",
       "      <td>...</td>\n",
       "    </tr>\n",
       "    <tr>\n",
       "      <th>6814</th>\n",
       "      <td>1.247610</td>\n",
       "      <td>-0.474437</td>\n",
       "      <td>-0.267194</td>\n",
       "      <td>0.034219</td>\n",
       "      <td>-0.122469</td>\n",
       "      <td>0</td>\n",
       "      <td>0.463734</td>\n",
       "      <td>1</td>\n",
       "      <td>0.673931</td>\n",
       "      <td>-0.342457</td>\n",
       "      <td>-0.178122</td>\n",
       "      <td>-0.119051</td>\n",
       "      <td>-0.031713</td>\n",
       "    </tr>\n",
       "    <tr>\n",
       "      <th>6815</th>\n",
       "      <td>1.110003</td>\n",
       "      <td>-0.705686</td>\n",
       "      <td>0.051722</td>\n",
       "      <td>0.285111</td>\n",
       "      <td>-0.337475</td>\n",
       "      <td>0</td>\n",
       "      <td>0.461978</td>\n",
       "      <td>1</td>\n",
       "      <td>0.503171</td>\n",
       "      <td>-0.754544</td>\n",
       "      <td>-0.609248</td>\n",
       "      <td>-0.235907</td>\n",
       "      <td>1.027399</td>\n",
       "    </tr>\n",
       "    <tr>\n",
       "      <th>6816</th>\n",
       "      <td>-2.080850</td>\n",
       "      <td>-1.414329</td>\n",
       "      <td>1.456380</td>\n",
       "      <td>-1.249215</td>\n",
       "      <td>0.384875</td>\n",
       "      <td>0</td>\n",
       "      <td>0.472189</td>\n",
       "      <td>1</td>\n",
       "      <td>0.643713</td>\n",
       "      <td>-0.008739</td>\n",
       "      <td>0.437302</td>\n",
       "      <td>0.319396</td>\n",
       "      <td>-0.593001</td>\n",
       "    </tr>\n",
       "    <tr>\n",
       "      <th>6817</th>\n",
       "      <td>-1.748204</td>\n",
       "      <td>-0.201945</td>\n",
       "      <td>0.299990</td>\n",
       "      <td>-0.399397</td>\n",
       "      <td>0.124898</td>\n",
       "      <td>0</td>\n",
       "      <td>0.476123</td>\n",
       "      <td>1</td>\n",
       "      <td>0.776984</td>\n",
       "      <td>-0.689400</td>\n",
       "      <td>-0.931640</td>\n",
       "      <td>-0.184398</td>\n",
       "      <td>-0.191805</td>\n",
       "    </tr>\n",
       "    <tr>\n",
       "      <th>6818</th>\n",
       "      <td>-1.558604</td>\n",
       "      <td>-2.138661</td>\n",
       "      <td>0.389272</td>\n",
       "      <td>-2.986523</td>\n",
       "      <td>1.306497</td>\n",
       "      <td>0</td>\n",
       "      <td>0.427721</td>\n",
       "      <td>1</td>\n",
       "      <td>0.821424</td>\n",
       "      <td>-0.186206</td>\n",
       "      <td>0.627989</td>\n",
       "      <td>2.315122</td>\n",
       "      <td>0.117810</td>\n",
       "    </tr>\n",
       "  </tbody>\n",
       "</table>\n",
       "<p>6819 rows × 13 columns</p>\n",
       "</div>"
      ],
      "text/plain": [
       "           0_x       1_x       2_x       3_x       4_x  Bankrupt?_x  \\\n",
       "0     7.002416  0.210639  0.518012  1.047195 -0.753040            1   \n",
       "1     2.515780 -1.001405  2.796927  1.254708 -1.625954            1   \n",
       "2     3.892479 -0.445196  0.329887  0.553487 -0.646255            1   \n",
       "3     5.358008 -1.373353  1.278496  1.082887 -1.146178            1   \n",
       "4     2.196216 -0.606589 -0.327225  0.466411 -0.303599            1   \n",
       "...        ...       ...       ...       ...       ...          ...   \n",
       "6814  1.247610 -0.474437 -0.267194  0.034219 -0.122469            0   \n",
       "6815  1.110003 -0.705686  0.051722  0.285111 -0.337475            0   \n",
       "6816 -2.080850 -1.414329  1.456380 -1.249215  0.384875            0   \n",
       "6817 -1.748204 -0.201945  0.299990 -0.399397  0.124898            0   \n",
       "6818 -1.558604 -2.138661  0.389272 -2.986523  1.306497            0   \n",
       "\n",
       "      Cash flow rate  Net Income Flag       0_y       1_y       2_y       3_y  \\\n",
       "0           0.458143                1 -0.689678  0.467495  0.346695  0.248471   \n",
       "1           0.461867                1 -0.372723 -0.160292 -0.051161 -0.304293   \n",
       "2           0.458521                1  0.664759  0.629933  5.825501 -3.682142   \n",
       "3           0.465705                1 -1.441261  0.396984  0.302307 -0.830670   \n",
       "4           0.462746                1 -1.732286  0.908610  0.346146  0.269552   \n",
       "...              ...              ...       ...       ...       ...       ...   \n",
       "6814        0.463734                1  0.673931 -0.342457 -0.178122 -0.119051   \n",
       "6815        0.461978                1  0.503171 -0.754544 -0.609248 -0.235907   \n",
       "6816        0.472189                1  0.643713 -0.008739  0.437302  0.319396   \n",
       "6817        0.476123                1  0.776984 -0.689400 -0.931640 -0.184398   \n",
       "6818        0.427721                1  0.821424 -0.186206  0.627989  2.315122   \n",
       "\n",
       "           4_y  \n",
       "0    -0.502879  \n",
       "1     0.700482  \n",
       "2     1.096737  \n",
       "3     0.278216  \n",
       "4    -0.634163  \n",
       "...        ...  \n",
       "6814 -0.031713  \n",
       "6815  1.027399  \n",
       "6816 -0.593001  \n",
       "6817 -0.191805  \n",
       "6818  0.117810  \n",
       "\n",
       "[6819 rows x 13 columns]"
      ]
     },
     "execution_count": 12,
     "metadata": {},
     "output_type": "execute_result"
    }
   ],
   "source": [
    "data_full"
   ]
  },
  {
   "cell_type": "code",
   "execution_count": 13,
   "id": "2cdefd6d",
   "metadata": {},
   "outputs": [],
   "source": [
    "# Define the target and split data for train_test\n",
    "y= data_full['Bankrupt?_x']\n",
    "X= data_full.drop('Bankrupt?_x', axis=1)\n",
    "\n",
    "X_train, X_test, y_train, y_test = train_test_split(X, y,\n",
    "                                                    test_size= 0.3,\n",
    "                                                    random_state=0)"
   ]
  },
  {
   "cell_type": "code",
   "execution_count": 43,
   "id": "10189755",
   "metadata": {},
   "outputs": [
    {
     "data": {
      "text/plain": [
       "0    6599\n",
       "1     220\n",
       "Name: Bankrupt?_x, dtype: int64"
      ]
     },
     "execution_count": 43,
     "metadata": {},
     "output_type": "execute_result"
    }
   ],
   "source": [
    "y.value_counts()"
   ]
  },
  {
   "cell_type": "markdown",
   "id": "55173bdc",
   "metadata": {},
   "source": [
    "### Modeling"
   ]
  },
  {
   "cell_type": "code",
   "execution_count": 14,
   "id": "f97a07fd",
   "metadata": {},
   "outputs": [
    {
     "data": {
      "text/plain": [
       "Pipeline(steps=[('balancing_over', SMOTE(sampling_strategy=0.2)),\n",
       "                ('balancing_under', RandomUnderSampler(sampling_strategy=0.75)),\n",
       "                ('classifier', RandomForestClassifier(random_state=42))])"
      ]
     },
     "execution_count": 14,
     "metadata": {},
     "output_type": "execute_result"
    }
   ],
   "source": [
    "# Create a pipeline\n",
    "\n",
    "model_pipe = imbpipeline([\n",
    "    (\"balancing_over\", SMOTE(sampling_strategy=0.2)),\n",
    "    (\"balancing_under\", RandomUnderSampler(sampling_strategy=0.75)),\n",
    "    (\"classifier\", RandomForestClassifier(random_state=42))\n",
    "])\n",
    "\n",
    "model_pipe"
   ]
  },
  {
   "cell_type": "code",
   "execution_count": 15,
   "id": "1b1a3756",
   "metadata": {},
   "outputs": [],
   "source": [
    "## training mordel ##\n",
    "\n",
    "model_training = model_pipe.fit(X_train, y_train)"
   ]
  },
  {
   "cell_type": "code",
   "execution_count": 16,
   "id": "72292989",
   "metadata": {},
   "outputs": [
    {
     "data": {
      "text/plain": [
       "array([0, 0, 0, ..., 0, 0, 0], dtype=int64)"
      ]
     },
     "execution_count": 16,
     "metadata": {},
     "output_type": "execute_result"
    }
   ],
   "source": [
    "y_pred = model_training.predict(X_test)\n",
    "y_pred"
   ]
  },
  {
   "cell_type": "code",
   "execution_count": 17,
   "id": "b11a1c61",
   "metadata": {
    "scrolled": true
   },
   "outputs": [
    {
     "name": "stdout",
     "output_type": "stream",
     "text": [
      "              precision    recall  f1-score   support\n",
      "\n",
      "           0       0.99      0.93      0.96      1987\n",
      "           1       0.21      0.61      0.31        59\n",
      "\n",
      "    accuracy                           0.92      2046\n",
      "   macro avg       0.60      0.77      0.63      2046\n",
      "weighted avg       0.97      0.92      0.94      2046\n",
      "\n"
     ]
    }
   ],
   "source": [
    "print(classification_report(y_test, y_pred))"
   ]
  },
  {
   "cell_type": "code",
   "execution_count": 18,
   "id": "b1217661",
   "metadata": {},
   "outputs": [
    {
     "data": {
      "text/html": [
       "<div>\n",
       "<style scoped>\n",
       "    .dataframe tbody tr th:only-of-type {\n",
       "        vertical-align: middle;\n",
       "    }\n",
       "\n",
       "    .dataframe tbody tr th {\n",
       "        vertical-align: top;\n",
       "    }\n",
       "\n",
       "    .dataframe thead th {\n",
       "        text-align: right;\n",
       "    }\n",
       "</style>\n",
       "<table border=\"1\" class=\"dataframe\">\n",
       "  <thead>\n",
       "    <tr style=\"text-align: right;\">\n",
       "      <th></th>\n",
       "      <th>Real_Value</th>\n",
       "      <th>Prediction_Value</th>\n",
       "    </tr>\n",
       "  </thead>\n",
       "  <tbody>\n",
       "    <tr>\n",
       "      <th>4929</th>\n",
       "      <td>0</td>\n",
       "      <td>0</td>\n",
       "    </tr>\n",
       "    <tr>\n",
       "      <th>6424</th>\n",
       "      <td>0</td>\n",
       "      <td>0</td>\n",
       "    </tr>\n",
       "    <tr>\n",
       "      <th>3807</th>\n",
       "      <td>0</td>\n",
       "      <td>0</td>\n",
       "    </tr>\n",
       "    <tr>\n",
       "      <th>2011</th>\n",
       "      <td>0</td>\n",
       "      <td>0</td>\n",
       "    </tr>\n",
       "    <tr>\n",
       "      <th>6728</th>\n",
       "      <td>1</td>\n",
       "      <td>0</td>\n",
       "    </tr>\n",
       "    <tr>\n",
       "      <th>...</th>\n",
       "      <td>...</td>\n",
       "      <td>...</td>\n",
       "    </tr>\n",
       "    <tr>\n",
       "      <th>5809</th>\n",
       "      <td>0</td>\n",
       "      <td>0</td>\n",
       "    </tr>\n",
       "    <tr>\n",
       "      <th>5961</th>\n",
       "      <td>0</td>\n",
       "      <td>0</td>\n",
       "    </tr>\n",
       "    <tr>\n",
       "      <th>4623</th>\n",
       "      <td>0</td>\n",
       "      <td>0</td>\n",
       "    </tr>\n",
       "    <tr>\n",
       "      <th>4783</th>\n",
       "      <td>0</td>\n",
       "      <td>0</td>\n",
       "    </tr>\n",
       "    <tr>\n",
       "      <th>4502</th>\n",
       "      <td>0</td>\n",
       "      <td>0</td>\n",
       "    </tr>\n",
       "  </tbody>\n",
       "</table>\n",
       "<p>2046 rows × 2 columns</p>\n",
       "</div>"
      ],
      "text/plain": [
       "      Real_Value  Prediction_Value\n",
       "4929           0                 0\n",
       "6424           0                 0\n",
       "3807           0                 0\n",
       "2011           0                 0\n",
       "6728           1                 0\n",
       "...          ...               ...\n",
       "5809           0                 0\n",
       "5961           0                 0\n",
       "4623           0                 0\n",
       "4783           0                 0\n",
       "4502           0                 0\n",
       "\n",
       "[2046 rows x 2 columns]"
      ]
     },
     "execution_count": 18,
     "metadata": {},
     "output_type": "execute_result"
    }
   ],
   "source": [
    "#Look the prediction\n",
    "prediction_df = pd.DataFrame()\n",
    "prediction_df['Real_Value'] = y_test\n",
    "prediction_df['Prediction_Value'] = y_pred\n",
    "prediction_df"
   ]
  },
  {
   "cell_type": "code",
   "execution_count": 19,
   "id": "5bc97f82",
   "metadata": {},
   "outputs": [
    {
     "data": {
      "image/png": "[encoded data removed]",
      "text/plain": [
       "<Figure size 640x480 with 2 Axes>"
      ]
     },
     "metadata": {},
     "output_type": "display_data"
    }
   ],
   "source": [
    "#Confusion matrice\n",
    "conf_mat = confusion_matrix(y_test, y_pred)\n",
    "sns.heatmap(conf_mat, annot=True, fmt=\"d\", cmap=\"Reds\")\n",
    "plt.title(\"Confusion matrix after RandomForestClassifier\")\n",
    "plt.xlabel(\"Predicted\")\n",
    "plt.ylabel(\"Actual\")\n",
    "plt.show()"
   ]
  },
  {
   "cell_type": "code",
   "execution_count": 20,
   "id": "2dc8c645",
   "metadata": {},
   "outputs": [
    {
     "name": "stdout",
     "output_type": "stream",
     "text": [
      "[0.         0.06945143 1.        ] [0.         0.61016949 1.        ]\n",
      "77.03590286011618\n"
     ]
    },
    {
     "data": {
      "image/png": "[encoded data removed]",
      "text/plain": [
       "<Figure size 640x480 with 1 Axes>"
      ]
     },
     "metadata": {},
     "output_type": "display_data"
    }
   ],
   "source": [
    "## roc curve ##\n",
    "\n",
    "fp, tp, thresholds=roc_curve(y_test,y_pred,pos_label=1)\n",
    "print(fp, tp)\n",
    "AUC=auc(fp, tp)*100\n",
    "print(AUC)\n",
    "\n",
    "#tracer tp en fonction de fp\n",
    "plt.plot(fp, tp, color='blue',label = 'AUC = %0.2f' % AUC)\n",
    "plt.title('Receiver Operating Characteristic')\n",
    "\n",
    "#plt.plot(fpr, tpr, 'b', label = 'AUC = %0.2f' % AUC)\n",
    "plt.legend(loc = 'lower right')\n",
    "plt.plot([0, 1], [0, 1],'r--')\n",
    "plt.xlim([0, 1])\n",
    "plt.ylim([0, 1])\n",
    "plt.ylabel('True Positive Rate')\n",
    "plt.xlabel('False Positive Rate')\n",
    "plt.show()"
   ]
  },
  {
   "cell_type": "markdown",
   "id": "34071914",
   "metadata": {},
   "source": [
    "### NEW ! Amélioration du modèle (Tuning)"
   ]
  },
  {
   "cell_type": "code",
   "execution_count": 21,
   "id": "12848fdf",
   "metadata": {},
   "outputs": [
    {
     "data": {
      "text/plain": [
       "Pipeline(steps=[('balancing_over', SMOTE(sampling_strategy=0.2)),\n",
       "                ('balancing_under', RandomUnderSampler(sampling_strategy=0.75)),\n",
       "                ('classifier', RandomForestClassifier(random_state=42))])"
      ]
     },
     "execution_count": 21,
     "metadata": {},
     "output_type": "execute_result"
    }
   ],
   "source": [
    "# Create a new pipeline\n",
    "model_forest = imbpipeline([\n",
    "    (\"balancing_over\", SMOTE(sampling_strategy=0.2)),\n",
    "    (\"balancing_under\", RandomUnderSampler(sampling_strategy=0.75)),\n",
    "    (\"classifier\", RandomForestClassifier(random_state=42))\n",
    "])\n",
    "\n",
    "model_forest"
   ]
  },
  {
   "cell_type": "code",
   "execution_count": 22,
   "id": "076d9556",
   "metadata": {
    "scrolled": true
   },
   "outputs": [
    {
     "name": "stdout",
     "output_type": "stream",
     "text": [
      "memory\n",
      "steps\n",
      "verbose\n",
      "balancing_over\n",
      "balancing_under\n",
      "classifier\n",
      "balancing_over__k_neighbors\n",
      "balancing_over__n_jobs\n",
      "balancing_over__random_state\n",
      "balancing_over__sampling_strategy\n",
      "balancing_under__random_state\n",
      "balancing_under__replacement\n",
      "balancing_under__sampling_strategy\n",
      "classifier__bootstrap\n",
      "classifier__ccp_alpha\n",
      "classifier__class_weight\n",
      "classifier__criterion\n",
      "classifier__max_depth\n",
      "classifier__max_features\n",
      "classifier__max_leaf_nodes\n",
      "classifier__max_samples\n",
      "classifier__min_impurity_decrease\n",
      "classifier__min_samples_leaf\n",
      "classifier__min_samples_split\n",
      "classifier__min_weight_fraction_leaf\n",
      "classifier__n_estimators\n",
      "classifier__n_jobs\n",
      "classifier__oob_score\n",
      "classifier__random_state\n",
      "classifier__verbose\n",
      "classifier__warm_start\n"
     ]
    }
   ],
   "source": [
    "for param in model_forest.get_params().keys():\n",
    "    print(param)"
   ]
  },
  {
   "cell_type": "code",
   "execution_count": 23,
   "id": "06fc44ac",
   "metadata": {},
   "outputs": [],
   "source": [
    "param_grid = {\n",
    "    'classifier__n_estimators' : [200, 400],\n",
    "    'classifier__max_features': ['auto', 'sqrt'],\n",
    "    'classifier__max_depth' : [10, 20, None]\n",
    "}"
   ]
  },
  {
   "cell_type": "code",
   "execution_count": 38,
   "id": "7afeecea",
   "metadata": {
    "scrolled": true
   },
   "outputs": [
    {
     "name": "stdout",
     "output_type": "stream",
     "text": [
      "Fitting 5 folds for each of 48 candidates, totalling 240 fits\n",
      "[CV 1/5] END classifier__bootstrap=True, classifier__max_depth=10, classifier__max_features=auto, classifier__n_estimators=200, classifier__random_state=100;, score=(train=0.992, test=0.812) total time=   0.8s\n",
      "[CV 2/5] END classifier__bootstrap=True, classifier__max_depth=10, classifier__max_features=auto, classifier__n_estimators=200, classifier__random_state=100;, score=(train=0.992, test=0.844) total time=   0.8s\n",
      "[CV 3/5] END classifier__bootstrap=True, classifier__max_depth=10, classifier__max_features=auto, classifier__n_estimators=200, classifier__random_state=100;, score=(train=1.000, test=0.667) total time=   0.8s\n",
      "[CV 4/5] END classifier__bootstrap=True, classifier__max_depth=10, classifier__max_features=auto, classifier__n_estimators=200, classifier__random_state=100;, score=(train=1.000, test=0.719) total time=   0.7s\n",
      "[CV 5/5] END classifier__bootstrap=True, classifier__max_depth=10, classifier__max_features=auto, classifier__n_estimators=200, classifier__random_state=100;, score=(train=1.000, test=0.688) total time=   1.1s\n",
      "[CV 1/5] END classifier__bootstrap=True, classifier__max_depth=10, classifier__max_features=auto, classifier__n_estimators=200, classifier__random_state=200;, score=(train=1.000, test=0.812) total time=   0.9s\n",
      "[CV 2/5] END classifier__bootstrap=True, classifier__max_depth=10, classifier__max_features=auto, classifier__n_estimators=200, classifier__random_state=200;, score=(train=1.000, test=0.688) total time=   1.0s\n",
      "[CV 3/5] END classifier__bootstrap=True, classifier__max_depth=10, classifier__max_features=auto, classifier__n_estimators=200, classifier__random_state=200;, score=(train=1.000, test=0.636) total time=   0.9s\n",
      "[CV 4/5] END classifier__bootstrap=True, classifier__max_depth=10, classifier__max_features=auto, classifier__n_estimators=200, classifier__random_state=200;, score=(train=1.000, test=0.688) total time=   0.8s\n",
      "[CV 5/5] END classifier__bootstrap=True, classifier__max_depth=10, classifier__max_features=auto, classifier__n_estimators=200, classifier__random_state=200;, score=(train=1.000, test=0.688) total time=   0.8s\n",
      "[CV 1/5] END classifier__bootstrap=True, classifier__max_depth=10, classifier__max_features=auto, classifier__n_estimators=400, classifier__random_state=100;, score=(train=1.000, test=0.781) total time=   1.7s\n",
      "[CV 2/5] END classifier__bootstrap=True, classifier__max_depth=10, classifier__max_features=auto, classifier__n_estimators=400, classifier__random_state=100;, score=(train=1.000, test=0.656) total time=   1.6s\n",
      "[CV 3/5] END classifier__bootstrap=True, classifier__max_depth=10, classifier__max_features=auto, classifier__n_estimators=400, classifier__random_state=100;, score=(train=0.992, test=0.697) total time=   1.6s\n",
      "[CV 4/5] END classifier__bootstrap=True, classifier__max_depth=10, classifier__max_features=auto, classifier__n_estimators=400, classifier__random_state=100;, score=(train=1.000, test=0.781) total time=   1.7s\n",
      "[CV 5/5] END classifier__bootstrap=True, classifier__max_depth=10, classifier__max_features=auto, classifier__n_estimators=400, classifier__random_state=100;, score=(train=1.000, test=0.688) total time=   1.6s\n",
      "[CV 1/5] END classifier__bootstrap=True, classifier__max_depth=10, classifier__max_features=auto, classifier__n_estimators=400, classifier__random_state=200;, score=(train=1.000, test=0.781) total time=   2.4s\n",
      "[CV 2/5] END classifier__bootstrap=True, classifier__max_depth=10, classifier__max_features=auto, classifier__n_estimators=400, classifier__random_state=200;, score=(train=1.000, test=0.719) total time=   2.2s\n",
      "[CV 3/5] END classifier__bootstrap=True, classifier__max_depth=10, classifier__max_features=auto, classifier__n_estimators=400, classifier__random_state=200;, score=(train=1.000, test=0.545) total time=   1.7s\n",
      "[CV 4/5] END classifier__bootstrap=True, classifier__max_depth=10, classifier__max_features=auto, classifier__n_estimators=400, classifier__random_state=200;, score=(train=1.000, test=0.719) total time=   1.6s\n",
      "[CV 5/5] END classifier__bootstrap=True, classifier__max_depth=10, classifier__max_features=auto, classifier__n_estimators=400, classifier__random_state=200;, score=(train=1.000, test=0.719) total time=   1.8s\n",
      "[CV 1/5] END classifier__bootstrap=True, classifier__max_depth=10, classifier__max_features=sqrt, classifier__n_estimators=200, classifier__random_state=100;, score=(train=1.000, test=0.750) total time=   0.8s\n",
      "[CV 2/5] END classifier__bootstrap=True, classifier__max_depth=10, classifier__max_features=sqrt, classifier__n_estimators=200, classifier__random_state=100;, score=(train=1.000, test=0.750) total time=   0.7s\n",
      "[CV 3/5] END classifier__bootstrap=True, classifier__max_depth=10, classifier__max_features=sqrt, classifier__n_estimators=200, classifier__random_state=100;, score=(train=1.000, test=0.545) total time=   0.7s\n",
      "[CV 4/5] END classifier__bootstrap=True, classifier__max_depth=10, classifier__max_features=sqrt, classifier__n_estimators=200, classifier__random_state=100;, score=(train=1.000, test=0.750) total time=   0.8s\n",
      "[CV 5/5] END classifier__bootstrap=True, classifier__max_depth=10, classifier__max_features=sqrt, classifier__n_estimators=200, classifier__random_state=100;, score=(train=1.000, test=0.656) total time=   0.7s\n",
      "[CV 1/5] END classifier__bootstrap=True, classifier__max_depth=10, classifier__max_features=sqrt, classifier__n_estimators=200, classifier__random_state=200;, score=(train=1.000, test=0.750) total time=   0.8s\n",
      "[CV 2/5] END classifier__bootstrap=True, classifier__max_depth=10, classifier__max_features=sqrt, classifier__n_estimators=200, classifier__random_state=200;, score=(train=1.000, test=0.688) total time=   0.8s\n",
      "[CV 3/5] END classifier__bootstrap=True, classifier__max_depth=10, classifier__max_features=sqrt, classifier__n_estimators=200, classifier__random_state=200;, score=(train=1.000, test=0.667) total time=   0.9s\n",
      "[CV 4/5] END classifier__bootstrap=True, classifier__max_depth=10, classifier__max_features=sqrt, classifier__n_estimators=200, classifier__random_state=200;, score=(train=1.000, test=0.750) total time=   0.7s\n",
      "[CV 5/5] END classifier__bootstrap=True, classifier__max_depth=10, classifier__max_features=sqrt, classifier__n_estimators=200, classifier__random_state=200;, score=(train=1.000, test=0.688) total time=   0.8s\n",
      "[CV 1/5] END classifier__bootstrap=True, classifier__max_depth=10, classifier__max_features=sqrt, classifier__n_estimators=400, classifier__random_state=100;, score=(train=1.000, test=0.719) total time=   1.8s\n",
      "[CV 2/5] END classifier__bootstrap=True, classifier__max_depth=10, classifier__max_features=sqrt, classifier__n_estimators=400, classifier__random_state=100;, score=(train=1.000, test=0.781) total time=   1.5s\n",
      "[CV 3/5] END classifier__bootstrap=True, classifier__max_depth=10, classifier__max_features=sqrt, classifier__n_estimators=400, classifier__random_state=100;, score=(train=1.000, test=0.636) total time=   1.6s\n",
      "[CV 4/5] END classifier__bootstrap=True, classifier__max_depth=10, classifier__max_features=sqrt, classifier__n_estimators=400, classifier__random_state=100;, score=(train=1.000, test=0.719) total time=   1.7s\n",
      "[CV 5/5] END classifier__bootstrap=True, classifier__max_depth=10, classifier__max_features=sqrt, classifier__n_estimators=400, classifier__random_state=100;, score=(train=1.000, test=0.719) total time=   1.6s\n",
      "[CV 1/5] END classifier__bootstrap=True, classifier__max_depth=10, classifier__max_features=sqrt, classifier__n_estimators=400, classifier__random_state=200;, score=(train=1.000, test=0.719) total time=   1.6s\n",
      "[CV 2/5] END classifier__bootstrap=True, classifier__max_depth=10, classifier__max_features=sqrt, classifier__n_estimators=400, classifier__random_state=200;, score=(train=1.000, test=0.781) total time=   1.5s\n",
      "[CV 3/5] END classifier__bootstrap=True, classifier__max_depth=10, classifier__max_features=sqrt, classifier__n_estimators=400, classifier__random_state=200;, score=(train=0.992, test=0.636) total time=   1.5s\n",
      "[CV 4/5] END classifier__bootstrap=True, classifier__max_depth=10, classifier__max_features=sqrt, classifier__n_estimators=400, classifier__random_state=200;, score=(train=1.000, test=0.750) total time=   1.6s\n"
     ]
    },
    {
     "name": "stdout",
     "output_type": "stream",
     "text": [
      "[CV 5/5] END classifier__bootstrap=True, classifier__max_depth=10, classifier__max_features=sqrt, classifier__n_estimators=400, classifier__random_state=200;, score=(train=1.000, test=0.625) total time=   1.5s\n",
      "[CV 1/5] END classifier__bootstrap=True, classifier__max_depth=20, classifier__max_features=auto, classifier__n_estimators=200, classifier__random_state=100;, score=(train=1.000, test=0.719) total time=   0.8s\n",
      "[CV 2/5] END classifier__bootstrap=True, classifier__max_depth=20, classifier__max_features=auto, classifier__n_estimators=200, classifier__random_state=100;, score=(train=1.000, test=0.719) total time=   0.8s\n",
      "[CV 3/5] END classifier__bootstrap=True, classifier__max_depth=20, classifier__max_features=auto, classifier__n_estimators=200, classifier__random_state=100;, score=(train=1.000, test=0.636) total time=   0.8s\n",
      "[CV 4/5] END classifier__bootstrap=True, classifier__max_depth=20, classifier__max_features=auto, classifier__n_estimators=200, classifier__random_state=100;, score=(train=1.000, test=0.719) total time=   0.8s\n",
      "[CV 5/5] END classifier__bootstrap=True, classifier__max_depth=20, classifier__max_features=auto, classifier__n_estimators=200, classifier__random_state=100;, score=(train=1.000, test=0.625) total time=   0.8s\n",
      "[CV 1/5] END classifier__bootstrap=True, classifier__max_depth=20, classifier__max_features=auto, classifier__n_estimators=200, classifier__random_state=200;, score=(train=1.000, test=0.750) total time=   0.9s\n",
      "[CV 2/5] END classifier__bootstrap=True, classifier__max_depth=20, classifier__max_features=auto, classifier__n_estimators=200, classifier__random_state=200;, score=(train=1.000, test=0.719) total time=   0.8s\n",
      "[CV 3/5] END classifier__bootstrap=True, classifier__max_depth=20, classifier__max_features=auto, classifier__n_estimators=200, classifier__random_state=200;, score=(train=1.000, test=0.545) total time=   0.7s\n",
      "[CV 4/5] END classifier__bootstrap=True, classifier__max_depth=20, classifier__max_features=auto, classifier__n_estimators=200, classifier__random_state=200;, score=(train=1.000, test=0.719) total time=   0.7s\n",
      "[CV 5/5] END classifier__bootstrap=True, classifier__max_depth=20, classifier__max_features=auto, classifier__n_estimators=200, classifier__random_state=200;, score=(train=1.000, test=0.625) total time=   0.8s\n",
      "[CV 1/5] END classifier__bootstrap=True, classifier__max_depth=20, classifier__max_features=auto, classifier__n_estimators=400, classifier__random_state=100;, score=(train=1.000, test=0.656) total time=   1.6s\n",
      "[CV 2/5] END classifier__bootstrap=True, classifier__max_depth=20, classifier__max_features=auto, classifier__n_estimators=400, classifier__random_state=100;, score=(train=1.000, test=0.719) total time=   1.9s\n",
      "[CV 3/5] END classifier__bootstrap=True, classifier__max_depth=20, classifier__max_features=auto, classifier__n_estimators=400, classifier__random_state=100;, score=(train=1.000, test=0.455) total time=   1.8s\n",
      "[CV 4/5] END classifier__bootstrap=True, classifier__max_depth=20, classifier__max_features=auto, classifier__n_estimators=400, classifier__random_state=100;, score=(train=1.000, test=0.688) total time=   1.8s\n",
      "[CV 5/5] END classifier__bootstrap=True, classifier__max_depth=20, classifier__max_features=auto, classifier__n_estimators=400, classifier__random_state=100;, score=(train=1.000, test=0.625) total time=   1.9s\n",
      "[CV 1/5] END classifier__bootstrap=True, classifier__max_depth=20, classifier__max_features=auto, classifier__n_estimators=400, classifier__random_state=200;, score=(train=1.000, test=0.719) total time=   1.8s\n",
      "[CV 2/5] END classifier__bootstrap=True, classifier__max_depth=20, classifier__max_features=auto, classifier__n_estimators=400, classifier__random_state=200;, score=(train=1.000, test=0.812) total time=   2.4s\n",
      "[CV 3/5] END classifier__bootstrap=True, classifier__max_depth=20, classifier__max_features=auto, classifier__n_estimators=400, classifier__random_state=200;, score=(train=1.000, test=0.606) total time=   2.2s\n",
      "[CV 4/5] END classifier__bootstrap=True, classifier__max_depth=20, classifier__max_features=auto, classifier__n_estimators=400, classifier__random_state=200;, score=(train=1.000, test=0.719) total time=   1.8s\n",
      "[CV 5/5] END classifier__bootstrap=True, classifier__max_depth=20, classifier__max_features=auto, classifier__n_estimators=400, classifier__random_state=200;, score=(train=1.000, test=0.656) total time=   1.7s\n",
      "[CV 1/5] END classifier__bootstrap=True, classifier__max_depth=20, classifier__max_features=sqrt, classifier__n_estimators=200, classifier__random_state=100;, score=(train=1.000, test=0.750) total time=   1.0s\n",
      "[CV 2/5] END classifier__bootstrap=True, classifier__max_depth=20, classifier__max_features=sqrt, classifier__n_estimators=200, classifier__random_state=100;, score=(train=1.000, test=0.656) total time=   0.9s\n",
      "[CV 3/5] END classifier__bootstrap=True, classifier__max_depth=20, classifier__max_features=sqrt, classifier__n_estimators=200, classifier__random_state=100;, score=(train=1.000, test=0.576) total time=   0.9s\n",
      "[CV 4/5] END classifier__bootstrap=True, classifier__max_depth=20, classifier__max_features=sqrt, classifier__n_estimators=200, classifier__random_state=100;, score=(train=1.000, test=0.750) total time=   0.8s\n",
      "[CV 5/5] END classifier__bootstrap=True, classifier__max_depth=20, classifier__max_features=sqrt, classifier__n_estimators=200, classifier__random_state=100;, score=(train=1.000, test=0.625) total time=   0.8s\n",
      "[CV 1/5] END classifier__bootstrap=True, classifier__max_depth=20, classifier__max_features=sqrt, classifier__n_estimators=200, classifier__random_state=200;, score=(train=1.000, test=0.719) total time=   0.9s\n",
      "[CV 2/5] END classifier__bootstrap=True, classifier__max_depth=20, classifier__max_features=sqrt, classifier__n_estimators=200, classifier__random_state=200;, score=(train=1.000, test=0.625) total time=   0.8s\n",
      "[CV 3/5] END classifier__bootstrap=True, classifier__max_depth=20, classifier__max_features=sqrt, classifier__n_estimators=200, classifier__random_state=200;, score=(train=1.000, test=0.576) total time=   0.8s\n",
      "[CV 4/5] END classifier__bootstrap=True, classifier__max_depth=20, classifier__max_features=sqrt, classifier__n_estimators=200, classifier__random_state=200;, score=(train=1.000, test=0.750) total time=   0.9s\n",
      "[CV 5/5] END classifier__bootstrap=True, classifier__max_depth=20, classifier__max_features=sqrt, classifier__n_estimators=200, classifier__random_state=200;, score=(train=1.000, test=0.656) total time=   0.8s\n",
      "[CV 1/5] END classifier__bootstrap=True, classifier__max_depth=20, classifier__max_features=sqrt, classifier__n_estimators=400, classifier__random_state=100;, score=(train=1.000, test=0.750) total time=   1.9s\n",
      "[CV 2/5] END classifier__bootstrap=True, classifier__max_depth=20, classifier__max_features=sqrt, classifier__n_estimators=400, classifier__random_state=100;, score=(train=1.000, test=0.719) total time=   1.9s\n",
      "[CV 3/5] END classifier__bootstrap=True, classifier__max_depth=20, classifier__max_features=sqrt, classifier__n_estimators=400, classifier__random_state=100;, score=(train=1.000, test=0.576) total time=   1.7s\n",
      "[CV 4/5] END classifier__bootstrap=True, classifier__max_depth=20, classifier__max_features=sqrt, classifier__n_estimators=400, classifier__random_state=100;, score=(train=1.000, test=0.719) total time=   1.9s\n",
      "[CV 5/5] END classifier__bootstrap=True, classifier__max_depth=20, classifier__max_features=sqrt, classifier__n_estimators=400, classifier__random_state=100;, score=(train=1.000, test=0.594) total time=   1.7s\n",
      "[CV 1/5] END classifier__bootstrap=True, classifier__max_depth=20, classifier__max_features=sqrt, classifier__n_estimators=400, classifier__random_state=200;, score=(train=1.000, test=0.781) total time=   2.0s\n",
      "[CV 2/5] END classifier__bootstrap=True, classifier__max_depth=20, classifier__max_features=sqrt, classifier__n_estimators=400, classifier__random_state=200;, score=(train=1.000, test=0.750) total time=   1.9s\n",
      "[CV 3/5] END classifier__bootstrap=True, classifier__max_depth=20, classifier__max_features=sqrt, classifier__n_estimators=400, classifier__random_state=200;, score=(train=1.000, test=0.667) total time=   1.6s\n",
      "[CV 4/5] END classifier__bootstrap=True, classifier__max_depth=20, classifier__max_features=sqrt, classifier__n_estimators=400, classifier__random_state=200;, score=(train=1.000, test=0.750) total time=   1.8s\n"
     ]
    },
    {
     "name": "stdout",
     "output_type": "stream",
     "text": [
      "[CV 5/5] END classifier__bootstrap=True, classifier__max_depth=20, classifier__max_features=sqrt, classifier__n_estimators=400, classifier__random_state=200;, score=(train=1.000, test=0.688) total time=   1.9s\n",
      "[CV 1/5] END classifier__bootstrap=True, classifier__max_depth=None, classifier__max_features=auto, classifier__n_estimators=200, classifier__random_state=100;, score=(train=1.000, test=0.750) total time=   0.9s\n",
      "[CV 2/5] END classifier__bootstrap=True, classifier__max_depth=None, classifier__max_features=auto, classifier__n_estimators=200, classifier__random_state=100;, score=(train=1.000, test=0.688) total time=   0.9s\n",
      "[CV 3/5] END classifier__bootstrap=True, classifier__max_depth=None, classifier__max_features=auto, classifier__n_estimators=200, classifier__random_state=100;, score=(train=1.000, test=0.545) total time=   1.1s\n",
      "[CV 4/5] END classifier__bootstrap=True, classifier__max_depth=None, classifier__max_features=auto, classifier__n_estimators=200, classifier__random_state=100;, score=(train=1.000, test=0.688) total time=   1.0s\n",
      "[CV 5/5] END classifier__bootstrap=True, classifier__max_depth=None, classifier__max_features=auto, classifier__n_estimators=200, classifier__random_state=100;, score=(train=1.000, test=0.531) total time=   0.9s\n",
      "[CV 1/5] END classifier__bootstrap=True, classifier__max_depth=None, classifier__max_features=auto, classifier__n_estimators=200, classifier__random_state=200;, score=(train=1.000, test=0.781) total time=   0.8s\n",
      "[CV 2/5] END classifier__bootstrap=True, classifier__max_depth=None, classifier__max_features=auto, classifier__n_estimators=200, classifier__random_state=200;, score=(train=1.000, test=0.656) total time=   0.8s\n",
      "[CV 3/5] END classifier__bootstrap=True, classifier__max_depth=None, classifier__max_features=auto, classifier__n_estimators=200, classifier__random_state=200;, score=(train=1.000, test=0.485) total time=   0.8s\n",
      "[CV 4/5] END classifier__bootstrap=True, classifier__max_depth=None, classifier__max_features=auto, classifier__n_estimators=200, classifier__random_state=200;, score=(train=1.000, test=0.688) total time=   1.1s\n",
      "[CV 5/5] END classifier__bootstrap=True, classifier__max_depth=None, classifier__max_features=auto, classifier__n_estimators=200, classifier__random_state=200;, score=(train=1.000, test=0.656) total time=   0.9s\n",
      "[CV 1/5] END classifier__bootstrap=True, classifier__max_depth=None, classifier__max_features=auto, classifier__n_estimators=400, classifier__random_state=100;, score=(train=1.000, test=0.781) total time=   2.0s\n",
      "[CV 2/5] END classifier__bootstrap=True, classifier__max_depth=None, classifier__max_features=auto, classifier__n_estimators=400, classifier__random_state=100;, score=(train=1.000, test=0.719) total time=   1.9s\n",
      "[CV 3/5] END classifier__bootstrap=True, classifier__max_depth=None, classifier__max_features=auto, classifier__n_estimators=400, classifier__random_state=100;, score=(train=1.000, test=0.545) total time=   2.2s\n",
      "[CV 4/5] END classifier__bootstrap=True, classifier__max_depth=None, classifier__max_features=auto, classifier__n_estimators=400, classifier__random_state=100;, score=(train=1.000, test=0.719) total time=   2.3s\n",
      "[CV 5/5] END classifier__bootstrap=True, classifier__max_depth=None, classifier__max_features=auto, classifier__n_estimators=400, classifier__random_state=100;, score=(train=1.000, test=0.625) total time=   2.2s\n",
      "[CV 1/5] END classifier__bootstrap=True, classifier__max_depth=None, classifier__max_features=auto, classifier__n_estimators=400, classifier__random_state=200;, score=(train=1.000, test=0.812) total time=   2.0s\n",
      "[CV 2/5] END classifier__bootstrap=True, classifier__max_depth=None, classifier__max_features=auto, classifier__n_estimators=400, classifier__random_state=200;, score=(train=1.000, test=0.688) total time=   2.3s\n",
      "[CV 3/5] END classifier__bootstrap=True, classifier__max_depth=None, classifier__max_features=auto, classifier__n_estimators=400, classifier__random_state=200;, score=(train=1.000, test=0.545) total time=   2.1s\n",
      "[CV 4/5] END classifier__bootstrap=True, classifier__max_depth=None, classifier__max_features=auto, classifier__n_estimators=400, classifier__random_state=200;, score=(train=1.000, test=0.719) total time=   2.2s\n",
      "[CV 5/5] END classifier__bootstrap=True, classifier__max_depth=None, classifier__max_features=auto, classifier__n_estimators=400, classifier__random_state=200;, score=(train=1.000, test=0.656) total time=   2.1s\n",
      "[CV 1/5] END classifier__bootstrap=True, classifier__max_depth=None, classifier__max_features=sqrt, classifier__n_estimators=200, classifier__random_state=100;, score=(train=1.000, test=0.750) total time=   0.8s\n",
      "[CV 2/5] END classifier__bootstrap=True, classifier__max_depth=None, classifier__max_features=sqrt, classifier__n_estimators=200, classifier__random_state=100;, score=(train=1.000, test=0.719) total time=   0.8s\n",
      "[CV 3/5] END classifier__bootstrap=True, classifier__max_depth=None, classifier__max_features=sqrt, classifier__n_estimators=200, classifier__random_state=100;, score=(train=1.000, test=0.606) total time=   0.8s\n",
      "[CV 4/5] END classifier__bootstrap=True, classifier__max_depth=None, classifier__max_features=sqrt, classifier__n_estimators=200, classifier__random_state=100;, score=(train=1.000, test=0.656) total time=   0.8s\n",
      "[CV 5/5] END classifier__bootstrap=True, classifier__max_depth=None, classifier__max_features=sqrt, classifier__n_estimators=200, classifier__random_state=100;, score=(train=1.000, test=0.562) total time=   0.8s\n",
      "[CV 1/5] END classifier__bootstrap=True, classifier__max_depth=None, classifier__max_features=sqrt, classifier__n_estimators=200, classifier__random_state=200;, score=(train=1.000, test=0.750) total time=   0.8s\n",
      "[CV 2/5] END classifier__bootstrap=True, classifier__max_depth=None, classifier__max_features=sqrt, classifier__n_estimators=200, classifier__random_state=200;, score=(train=1.000, test=0.625) total time=   0.8s\n",
      "[CV 3/5] END classifier__bootstrap=True, classifier__max_depth=None, classifier__max_features=sqrt, classifier__n_estimators=200, classifier__random_state=200;, score=(train=1.000, test=0.576) total time=   0.8s\n",
      "[CV 4/5] END classifier__bootstrap=True, classifier__max_depth=None, classifier__max_features=sqrt, classifier__n_estimators=200, classifier__random_state=200;, score=(train=1.000, test=0.781) total time=   0.8s\n",
      "[CV 5/5] END classifier__bootstrap=True, classifier__max_depth=None, classifier__max_features=sqrt, classifier__n_estimators=200, classifier__random_state=200;, score=(train=1.000, test=0.594) total time=   0.8s\n",
      "[CV 1/5] END classifier__bootstrap=True, classifier__max_depth=None, classifier__max_features=sqrt, classifier__n_estimators=400, classifier__random_state=100;, score=(train=1.000, test=0.719) total time=   1.6s\n",
      "[CV 2/5] END classifier__bootstrap=True, classifier__max_depth=None, classifier__max_features=sqrt, classifier__n_estimators=400, classifier__random_state=100;, score=(train=1.000, test=0.719) total time=   1.9s\n",
      "[CV 3/5] END classifier__bootstrap=True, classifier__max_depth=None, classifier__max_features=sqrt, classifier__n_estimators=400, classifier__random_state=100;, score=(train=1.000, test=0.636) total time=   1.9s\n",
      "[CV 4/5] END classifier__bootstrap=True, classifier__max_depth=None, classifier__max_features=sqrt, classifier__n_estimators=400, classifier__random_state=100;, score=(train=1.000, test=0.688) total time=   1.9s\n",
      "[CV 5/5] END classifier__bootstrap=True, classifier__max_depth=None, classifier__max_features=sqrt, classifier__n_estimators=400, classifier__random_state=100;, score=(train=1.000, test=0.656) total time=   1.7s\n",
      "[CV 1/5] END classifier__bootstrap=True, classifier__max_depth=None, classifier__max_features=sqrt, classifier__n_estimators=400, classifier__random_state=200;, score=(train=1.000, test=0.750) total time=   1.9s\n",
      "[CV 2/5] END classifier__bootstrap=True, classifier__max_depth=None, classifier__max_features=sqrt, classifier__n_estimators=400, classifier__random_state=200;, score=(train=1.000, test=0.688) total time=   1.7s\n",
      "[CV 3/5] END classifier__bootstrap=True, classifier__max_depth=None, classifier__max_features=sqrt, classifier__n_estimators=400, classifier__random_state=200;, score=(train=1.000, test=0.576) total time=   1.8s\n"
     ]
    },
    {
     "name": "stdout",
     "output_type": "stream",
     "text": [
      "[CV 4/5] END classifier__bootstrap=True, classifier__max_depth=None, classifier__max_features=sqrt, classifier__n_estimators=400, classifier__random_state=200;, score=(train=1.000, test=0.781) total time=   1.7s\n",
      "[CV 5/5] END classifier__bootstrap=True, classifier__max_depth=None, classifier__max_features=sqrt, classifier__n_estimators=400, classifier__random_state=200;, score=(train=1.000, test=0.688) total time=   1.6s\n",
      "[CV 1/5] END classifier__bootstrap=False, classifier__max_depth=10, classifier__max_features=auto, classifier__n_estimators=200, classifier__random_state=100;, score=(train=1.000, test=0.750) total time=   1.0s\n",
      "[CV 2/5] END classifier__bootstrap=False, classifier__max_depth=10, classifier__max_features=auto, classifier__n_estimators=200, classifier__random_state=100;, score=(train=1.000, test=0.656) total time=   1.0s\n",
      "[CV 3/5] END classifier__bootstrap=False, classifier__max_depth=10, classifier__max_features=auto, classifier__n_estimators=200, classifier__random_state=100;, score=(train=1.000, test=0.515) total time=   1.0s\n",
      "[CV 4/5] END classifier__bootstrap=False, classifier__max_depth=10, classifier__max_features=auto, classifier__n_estimators=200, classifier__random_state=100;, score=(train=1.000, test=0.750) total time=   0.9s\n",
      "[CV 5/5] END classifier__bootstrap=False, classifier__max_depth=10, classifier__max_features=auto, classifier__n_estimators=200, classifier__random_state=100;, score=(train=1.000, test=0.594) total time=   1.0s\n",
      "[CV 1/5] END classifier__bootstrap=False, classifier__max_depth=10, classifier__max_features=auto, classifier__n_estimators=200, classifier__random_state=200;, score=(train=1.000, test=0.688) total time=   1.3s\n",
      "[CV 2/5] END classifier__bootstrap=False, classifier__max_depth=10, classifier__max_features=auto, classifier__n_estimators=200, classifier__random_state=200;, score=(train=1.000, test=0.594) total time=   1.1s\n",
      "[CV 3/5] END classifier__bootstrap=False, classifier__max_depth=10, classifier__max_features=auto, classifier__n_estimators=200, classifier__random_state=200;, score=(train=1.000, test=0.545) total time=   1.1s\n",
      "[CV 4/5] END classifier__bootstrap=False, classifier__max_depth=10, classifier__max_features=auto, classifier__n_estimators=200, classifier__random_state=200;, score=(train=1.000, test=0.688) total time=   1.2s\n",
      "[CV 5/5] END classifier__bootstrap=False, classifier__max_depth=10, classifier__max_features=auto, classifier__n_estimators=200, classifier__random_state=200;, score=(train=1.000, test=0.656) total time=   1.1s\n",
      "[CV 1/5] END classifier__bootstrap=False, classifier__max_depth=10, classifier__max_features=auto, classifier__n_estimators=400, classifier__random_state=100;, score=(train=1.000, test=0.719) total time=   2.3s\n",
      "[CV 2/5] END classifier__bootstrap=False, classifier__max_depth=10, classifier__max_features=auto, classifier__n_estimators=400, classifier__random_state=100;, score=(train=1.000, test=0.625) total time=   2.3s\n",
      "[CV 3/5] END classifier__bootstrap=False, classifier__max_depth=10, classifier__max_features=auto, classifier__n_estimators=400, classifier__random_state=100;, score=(train=1.000, test=0.606) total time=   1.9s\n",
      "[CV 4/5] END classifier__bootstrap=False, classifier__max_depth=10, classifier__max_features=auto, classifier__n_estimators=400, classifier__random_state=100;, score=(train=1.000, test=0.750) total time=   2.0s\n",
      "[CV 5/5] END classifier__bootstrap=False, classifier__max_depth=10, classifier__max_features=auto, classifier__n_estimators=400, classifier__random_state=100;, score=(train=1.000, test=0.656) total time=   2.0s\n",
      "[CV 1/5] END classifier__bootstrap=False, classifier__max_depth=10, classifier__max_features=auto, classifier__n_estimators=400, classifier__random_state=200;, score=(train=1.000, test=0.719) total time=   2.0s\n",
      "[CV 2/5] END classifier__bootstrap=False, classifier__max_depth=10, classifier__max_features=auto, classifier__n_estimators=400, classifier__random_state=200;, score=(train=1.000, test=0.719) total time=   1.9s\n",
      "[CV 3/5] END classifier__bootstrap=False, classifier__max_depth=10, classifier__max_features=auto, classifier__n_estimators=400, classifier__random_state=200;, score=(train=1.000, test=0.485) total time=   2.0s\n",
      "[CV 4/5] END classifier__bootstrap=False, classifier__max_depth=10, classifier__max_features=auto, classifier__n_estimators=400, classifier__random_state=200;, score=(train=1.000, test=0.688) total time=   2.2s\n",
      "[CV 5/5] END classifier__bootstrap=False, classifier__max_depth=10, classifier__max_features=auto, classifier__n_estimators=400, classifier__random_state=200;, score=(train=1.000, test=0.625) total time=   2.1s\n",
      "[CV 1/5] END classifier__bootstrap=False, classifier__max_depth=10, classifier__max_features=sqrt, classifier__n_estimators=200, classifier__random_state=100;, score=(train=1.000, test=0.781) total time=   0.9s\n",
      "[CV 2/5] END classifier__bootstrap=False, classifier__max_depth=10, classifier__max_features=sqrt, classifier__n_estimators=200, classifier__random_state=100;, score=(train=1.000, test=0.688) total time=   1.0s\n",
      "[CV 3/5] END classifier__bootstrap=False, classifier__max_depth=10, classifier__max_features=sqrt, classifier__n_estimators=200, classifier__random_state=100;, score=(train=1.000, test=0.606) total time=   1.0s\n",
      "[CV 4/5] END classifier__bootstrap=False, classifier__max_depth=10, classifier__max_features=sqrt, classifier__n_estimators=200, classifier__random_state=100;, score=(train=1.000, test=0.719) total time=   1.0s\n",
      "[CV 5/5] END classifier__bootstrap=False, classifier__max_depth=10, classifier__max_features=sqrt, classifier__n_estimators=200, classifier__random_state=100;, score=(train=1.000, test=0.625) total time=   0.9s\n",
      "[CV 1/5] END classifier__bootstrap=False, classifier__max_depth=10, classifier__max_features=sqrt, classifier__n_estimators=200, classifier__random_state=200;, score=(train=1.000, test=0.719) total time=   0.9s\n",
      "[CV 2/5] END classifier__bootstrap=False, classifier__max_depth=10, classifier__max_features=sqrt, classifier__n_estimators=200, classifier__random_state=200;, score=(train=1.000, test=0.750) total time=   1.0s\n",
      "[CV 3/5] END classifier__bootstrap=False, classifier__max_depth=10, classifier__max_features=sqrt, classifier__n_estimators=200, classifier__random_state=200;, score=(train=1.000, test=0.576) total time=   1.1s\n",
      "[CV 4/5] END classifier__bootstrap=False, classifier__max_depth=10, classifier__max_features=sqrt, classifier__n_estimators=200, classifier__random_state=200;, score=(train=1.000, test=0.688) total time=   1.1s\n",
      "[CV 5/5] END classifier__bootstrap=False, classifier__max_depth=10, classifier__max_features=sqrt, classifier__n_estimators=200, classifier__random_state=200;, score=(train=1.000, test=0.688) total time=   1.1s\n",
      "[CV 1/5] END classifier__bootstrap=False, classifier__max_depth=10, classifier__max_features=sqrt, classifier__n_estimators=400, classifier__random_state=100;, score=(train=1.000, test=0.781) total time=   2.2s\n",
      "[CV 2/5] END classifier__bootstrap=False, classifier__max_depth=10, classifier__max_features=sqrt, classifier__n_estimators=400, classifier__random_state=100;, score=(train=1.000, test=0.719) total time=   2.2s\n",
      "[CV 3/5] END classifier__bootstrap=False, classifier__max_depth=10, classifier__max_features=sqrt, classifier__n_estimators=400, classifier__random_state=100;, score=(train=1.000, test=0.515) total time=   2.1s\n",
      "[CV 4/5] END classifier__bootstrap=False, classifier__max_depth=10, classifier__max_features=sqrt, classifier__n_estimators=400, classifier__random_state=100;, score=(train=1.000, test=0.688) total time=   2.0s\n",
      "[CV 5/5] END classifier__bootstrap=False, classifier__max_depth=10, classifier__max_features=sqrt, classifier__n_estimators=400, classifier__random_state=100;, score=(train=1.000, test=0.594) total time=   2.2s\n",
      "[CV 1/5] END classifier__bootstrap=False, classifier__max_depth=10, classifier__max_features=sqrt, classifier__n_estimators=400, classifier__random_state=200;, score=(train=1.000, test=0.719) total time=   2.1s\n",
      "[CV 2/5] END classifier__bootstrap=False, classifier__max_depth=10, classifier__max_features=sqrt, classifier__n_estimators=400, classifier__random_state=200;, score=(train=1.000, test=0.719) total time=   2.5s\n"
     ]
    },
    {
     "name": "stdout",
     "output_type": "stream",
     "text": [
      "[CV 3/5] END classifier__bootstrap=False, classifier__max_depth=10, classifier__max_features=sqrt, classifier__n_estimators=400, classifier__random_state=200;, score=(train=1.000, test=0.515) total time=   2.6s\n",
      "[CV 4/5] END classifier__bootstrap=False, classifier__max_depth=10, classifier__max_features=sqrt, classifier__n_estimators=400, classifier__random_state=200;, score=(train=1.000, test=0.719) total time=   2.2s\n",
      "[CV 5/5] END classifier__bootstrap=False, classifier__max_depth=10, classifier__max_features=sqrt, classifier__n_estimators=400, classifier__random_state=200;, score=(train=1.000, test=0.562) total time=   2.1s\n",
      "[CV 1/5] END classifier__bootstrap=False, classifier__max_depth=20, classifier__max_features=auto, classifier__n_estimators=200, classifier__random_state=100;, score=(train=1.000, test=0.750) total time=   1.2s\n",
      "[CV 2/5] END classifier__bootstrap=False, classifier__max_depth=20, classifier__max_features=auto, classifier__n_estimators=200, classifier__random_state=100;, score=(train=1.000, test=0.625) total time=   1.1s\n",
      "[CV 3/5] END classifier__bootstrap=False, classifier__max_depth=20, classifier__max_features=auto, classifier__n_estimators=200, classifier__random_state=100;, score=(train=1.000, test=0.515) total time=   1.0s\n",
      "[CV 4/5] END classifier__bootstrap=False, classifier__max_depth=20, classifier__max_features=auto, classifier__n_estimators=200, classifier__random_state=100;, score=(train=1.000, test=0.594) total time=   1.1s\n",
      "[CV 5/5] END classifier__bootstrap=False, classifier__max_depth=20, classifier__max_features=auto, classifier__n_estimators=200, classifier__random_state=100;, score=(train=1.000, test=0.562) total time=   1.1s\n",
      "[CV 1/5] END classifier__bootstrap=False, classifier__max_depth=20, classifier__max_features=auto, classifier__n_estimators=200, classifier__random_state=200;, score=(train=1.000, test=0.719) total time=   1.4s\n",
      "[CV 2/5] END classifier__bootstrap=False, classifier__max_depth=20, classifier__max_features=auto, classifier__n_estimators=200, classifier__random_state=200;, score=(train=1.000, test=0.750) total time=   1.1s\n",
      "[CV 3/5] END classifier__bootstrap=False, classifier__max_depth=20, classifier__max_features=auto, classifier__n_estimators=200, classifier__random_state=200;, score=(train=1.000, test=0.424) total time=   1.3s\n",
      "[CV 4/5] END classifier__bootstrap=False, classifier__max_depth=20, classifier__max_features=auto, classifier__n_estimators=200, classifier__random_state=200;, score=(train=1.000, test=0.656) total time=   1.2s\n",
      "[CV 5/5] END classifier__bootstrap=False, classifier__max_depth=20, classifier__max_features=auto, classifier__n_estimators=200, classifier__random_state=200;, score=(train=1.000, test=0.500) total time=   1.0s\n",
      "[CV 1/5] END classifier__bootstrap=False, classifier__max_depth=20, classifier__max_features=auto, classifier__n_estimators=400, classifier__random_state=100;, score=(train=1.000, test=0.656) total time=   2.2s\n",
      "[CV 2/5] END classifier__bootstrap=False, classifier__max_depth=20, classifier__max_features=auto, classifier__n_estimators=400, classifier__random_state=100;, score=(train=1.000, test=0.656) total time=   2.3s\n",
      "[CV 3/5] END classifier__bootstrap=False, classifier__max_depth=20, classifier__max_features=auto, classifier__n_estimators=400, classifier__random_state=100;, score=(train=1.000, test=0.455) total time=   2.4s\n",
      "[CV 4/5] END classifier__bootstrap=False, classifier__max_depth=20, classifier__max_features=auto, classifier__n_estimators=400, classifier__random_state=100;, score=(train=1.000, test=0.656) total time=   2.1s\n",
      "[CV 5/5] END classifier__bootstrap=False, classifier__max_depth=20, classifier__max_features=auto, classifier__n_estimators=400, classifier__random_state=100;, score=(train=1.000, test=0.594) total time=   2.3s\n",
      "[CV 1/5] END classifier__bootstrap=False, classifier__max_depth=20, classifier__max_features=auto, classifier__n_estimators=400, classifier__random_state=200;, score=(train=1.000, test=0.656) total time=   2.2s\n",
      "[CV 2/5] END classifier__bootstrap=False, classifier__max_depth=20, classifier__max_features=auto, classifier__n_estimators=400, classifier__random_state=200;, score=(train=1.000, test=0.625) total time=   2.2s\n",
      "[CV 3/5] END classifier__bootstrap=False, classifier__max_depth=20, classifier__max_features=auto, classifier__n_estimators=400, classifier__random_state=200;, score=(train=1.000, test=0.455) total time=   2.1s\n",
      "[CV 4/5] END classifier__bootstrap=False, classifier__max_depth=20, classifier__max_features=auto, classifier__n_estimators=400, classifier__random_state=200;, score=(train=1.000, test=0.562) total time=   2.1s\n",
      "[CV 5/5] END classifier__bootstrap=False, classifier__max_depth=20, classifier__max_features=auto, classifier__n_estimators=400, classifier__random_state=200;, score=(train=1.000, test=0.500) total time=   2.3s\n",
      "[CV 1/5] END classifier__bootstrap=False, classifier__max_depth=20, classifier__max_features=sqrt, classifier__n_estimators=200, classifier__random_state=100;, score=(train=1.000, test=0.688) total time=   1.0s\n",
      "[CV 2/5] END classifier__bootstrap=False, classifier__max_depth=20, classifier__max_features=sqrt, classifier__n_estimators=200, classifier__random_state=100;, score=(train=1.000, test=0.594) total time=   1.0s\n",
      "[CV 3/5] END classifier__bootstrap=False, classifier__max_depth=20, classifier__max_features=sqrt, classifier__n_estimators=200, classifier__random_state=100;, score=(train=1.000, test=0.485) total time=   1.0s\n",
      "[CV 4/5] END classifier__bootstrap=False, classifier__max_depth=20, classifier__max_features=sqrt, classifier__n_estimators=200, classifier__random_state=100;, score=(train=1.000, test=0.625) total time=   1.0s\n",
      "[CV 5/5] END classifier__bootstrap=False, classifier__max_depth=20, classifier__max_features=sqrt, classifier__n_estimators=200, classifier__random_state=100;, score=(train=1.000, test=0.469) total time=   1.0s\n",
      "[CV 1/5] END classifier__bootstrap=False, classifier__max_depth=20, classifier__max_features=sqrt, classifier__n_estimators=200, classifier__random_state=200;, score=(train=1.000, test=0.688) total time=   1.1s\n",
      "[CV 2/5] END classifier__bootstrap=False, classifier__max_depth=20, classifier__max_features=sqrt, classifier__n_estimators=200, classifier__random_state=200;, score=(train=1.000, test=0.500) total time=   1.0s\n",
      "[CV 3/5] END classifier__bootstrap=False, classifier__max_depth=20, classifier__max_features=sqrt, classifier__n_estimators=200, classifier__random_state=200;, score=(train=1.000, test=0.515) total time=   1.0s\n",
      "[CV 4/5] END classifier__bootstrap=False, classifier__max_depth=20, classifier__max_features=sqrt, classifier__n_estimators=200, classifier__random_state=200;, score=(train=1.000, test=0.625) total time=   1.0s\n",
      "[CV 5/5] END classifier__bootstrap=False, classifier__max_depth=20, classifier__max_features=sqrt, classifier__n_estimators=200, classifier__random_state=200;, score=(train=1.000, test=0.531) total time=   1.2s\n",
      "[CV 1/5] END classifier__bootstrap=False, classifier__max_depth=20, classifier__max_features=sqrt, classifier__n_estimators=400, classifier__random_state=100;, score=(train=1.000, test=0.688) total time=   2.3s\n",
      "[CV 2/5] END classifier__bootstrap=False, classifier__max_depth=20, classifier__max_features=sqrt, classifier__n_estimators=400, classifier__random_state=100;, score=(train=1.000, test=0.625) total time=   2.1s\n",
      "[CV 3/5] END classifier__bootstrap=False, classifier__max_depth=20, classifier__max_features=sqrt, classifier__n_estimators=400, classifier__random_state=100;, score=(train=1.000, test=0.455) total time=   2.1s\n",
      "[CV 4/5] END classifier__bootstrap=False, classifier__max_depth=20, classifier__max_features=sqrt, classifier__n_estimators=400, classifier__random_state=100;, score=(train=1.000, test=0.625) total time=   2.1s\n",
      "[CV 5/5] END classifier__bootstrap=False, classifier__max_depth=20, classifier__max_features=sqrt, classifier__n_estimators=400, classifier__random_state=100;, score=(train=1.000, test=0.625) total time=   2.2s\n",
      "[CV 1/5] END classifier__bootstrap=False, classifier__max_depth=20, classifier__max_features=sqrt, classifier__n_estimators=400, classifier__random_state=200;, score=(train=1.000, test=0.719) total time=   2.1s\n"
     ]
    },
    {
     "name": "stdout",
     "output_type": "stream",
     "text": [
      "[CV 2/5] END classifier__bootstrap=False, classifier__max_depth=20, classifier__max_features=sqrt, classifier__n_estimators=400, classifier__random_state=200;, score=(train=1.000, test=0.719) total time=   2.2s\n",
      "[CV 3/5] END classifier__bootstrap=False, classifier__max_depth=20, classifier__max_features=sqrt, classifier__n_estimators=400, classifier__random_state=200;, score=(train=1.000, test=0.455) total time=   2.1s\n",
      "[CV 4/5] END classifier__bootstrap=False, classifier__max_depth=20, classifier__max_features=sqrt, classifier__n_estimators=400, classifier__random_state=200;, score=(train=1.000, test=0.688) total time=   2.1s\n",
      "[CV 5/5] END classifier__bootstrap=False, classifier__max_depth=20, classifier__max_features=sqrt, classifier__n_estimators=400, classifier__random_state=200;, score=(train=1.000, test=0.562) total time=   2.1s\n",
      "[CV 1/5] END classifier__bootstrap=False, classifier__max_depth=None, classifier__max_features=auto, classifier__n_estimators=200, classifier__random_state=100;, score=(train=1.000, test=0.625) total time=   1.4s\n",
      "[CV 2/5] END classifier__bootstrap=False, classifier__max_depth=None, classifier__max_features=auto, classifier__n_estimators=200, classifier__random_state=100;, score=(train=1.000, test=0.594) total time=   1.7s\n",
      "[CV 3/5] END classifier__bootstrap=False, classifier__max_depth=None, classifier__max_features=auto, classifier__n_estimators=200, classifier__random_state=100;, score=(train=1.000, test=0.424) total time=   1.4s\n",
      "[CV 4/5] END classifier__bootstrap=False, classifier__max_depth=None, classifier__max_features=auto, classifier__n_estimators=200, classifier__random_state=100;, score=(train=1.000, test=0.562) total time=   1.3s\n",
      "[CV 5/5] END classifier__bootstrap=False, classifier__max_depth=None, classifier__max_features=auto, classifier__n_estimators=200, classifier__random_state=100;, score=(train=1.000, test=0.562) total time=   1.2s\n",
      "[CV 1/5] END classifier__bootstrap=False, classifier__max_depth=None, classifier__max_features=auto, classifier__n_estimators=200, classifier__random_state=200;, score=(train=1.000, test=0.688) total time=   1.1s\n",
      "[CV 2/5] END classifier__bootstrap=False, classifier__max_depth=None, classifier__max_features=auto, classifier__n_estimators=200, classifier__random_state=200;, score=(train=1.000, test=0.625) total time=   1.2s\n",
      "[CV 3/5] END classifier__bootstrap=False, classifier__max_depth=None, classifier__max_features=auto, classifier__n_estimators=200, classifier__random_state=200;, score=(train=1.000, test=0.485) total time=   1.0s\n",
      "[CV 4/5] END classifier__bootstrap=False, classifier__max_depth=None, classifier__max_features=auto, classifier__n_estimators=200, classifier__random_state=200;, score=(train=1.000, test=0.688) total time=   1.2s\n",
      "[CV 5/5] END classifier__bootstrap=False, classifier__max_depth=None, classifier__max_features=auto, classifier__n_estimators=200, classifier__random_state=200;, score=(train=1.000, test=0.531) total time=   1.1s\n",
      "[CV 1/5] END classifier__bootstrap=False, classifier__max_depth=None, classifier__max_features=auto, classifier__n_estimators=400, classifier__random_state=100;, score=(train=1.000, test=0.688) total time=   2.7s\n",
      "[CV 2/5] END classifier__bootstrap=False, classifier__max_depth=None, classifier__max_features=auto, classifier__n_estimators=400, classifier__random_state=100;, score=(train=1.000, test=0.688) total time=   2.6s\n",
      "[CV 3/5] END classifier__bootstrap=False, classifier__max_depth=None, classifier__max_features=auto, classifier__n_estimators=400, classifier__random_state=100;, score=(train=1.000, test=0.364) total time=   2.4s\n",
      "[CV 4/5] END classifier__bootstrap=False, classifier__max_depth=None, classifier__max_features=auto, classifier__n_estimators=400, classifier__random_state=100;, score=(train=1.000, test=0.656) total time=   2.5s\n",
      "[CV 5/5] END classifier__bootstrap=False, classifier__max_depth=None, classifier__max_features=auto, classifier__n_estimators=400, classifier__random_state=100;, score=(train=1.000, test=0.500) total time=   3.8s\n",
      "[CV 1/5] END classifier__bootstrap=False, classifier__max_depth=None, classifier__max_features=auto, classifier__n_estimators=400, classifier__random_state=200;, score=(train=1.000, test=0.750) total time=   3.2s\n",
      "[CV 2/5] END classifier__bootstrap=False, classifier__max_depth=None, classifier__max_features=auto, classifier__n_estimators=400, classifier__random_state=200;, score=(train=1.000, test=0.656) total time=   2.1s\n",
      "[CV 3/5] END classifier__bootstrap=False, classifier__max_depth=None, classifier__max_features=auto, classifier__n_estimators=400, classifier__random_state=200;, score=(train=1.000, test=0.455) total time=   2.1s\n",
      "[CV 4/5] END classifier__bootstrap=False, classifier__max_depth=None, classifier__max_features=auto, classifier__n_estimators=400, classifier__random_state=200;, score=(train=1.000, test=0.625) total time=   2.5s\n",
      "[CV 5/5] END classifier__bootstrap=False, classifier__max_depth=None, classifier__max_features=auto, classifier__n_estimators=400, classifier__random_state=200;, score=(train=1.000, test=0.531) total time=   2.2s\n",
      "[CV 1/5] END classifier__bootstrap=False, classifier__max_depth=None, classifier__max_features=sqrt, classifier__n_estimators=200, classifier__random_state=100;, score=(train=1.000, test=0.719) total time=   1.0s\n",
      "[CV 2/5] END classifier__bootstrap=False, classifier__max_depth=None, classifier__max_features=sqrt, classifier__n_estimators=200, classifier__random_state=100;, score=(train=1.000, test=0.625) total time=   1.0s\n",
      "[CV 3/5] END classifier__bootstrap=False, classifier__max_depth=None, classifier__max_features=sqrt, classifier__n_estimators=200, classifier__random_state=100;, score=(train=1.000, test=0.333) total time=   1.0s\n",
      "[CV 4/5] END classifier__bootstrap=False, classifier__max_depth=None, classifier__max_features=sqrt, classifier__n_estimators=200, classifier__random_state=100;, score=(train=1.000, test=0.656) total time=   1.0s\n",
      "[CV 5/5] END classifier__bootstrap=False, classifier__max_depth=None, classifier__max_features=sqrt, classifier__n_estimators=200, classifier__random_state=100;, score=(train=1.000, test=0.594) total time=   1.0s\n",
      "[CV 1/5] END classifier__bootstrap=False, classifier__max_depth=None, classifier__max_features=sqrt, classifier__n_estimators=200, classifier__random_state=200;, score=(train=1.000, test=0.688) total time=   1.0s\n",
      "[CV 2/5] END classifier__bootstrap=False, classifier__max_depth=None, classifier__max_features=sqrt, classifier__n_estimators=200, classifier__random_state=200;, score=(train=1.000, test=0.625) total time=   1.1s\n",
      "[CV 3/5] END classifier__bootstrap=False, classifier__max_depth=None, classifier__max_features=sqrt, classifier__n_estimators=200, classifier__random_state=200;, score=(train=1.000, test=0.545) total time=   1.0s\n",
      "[CV 4/5] END classifier__bootstrap=False, classifier__max_depth=None, classifier__max_features=sqrt, classifier__n_estimators=200, classifier__random_state=200;, score=(train=1.000, test=0.625) total time=   1.0s\n",
      "[CV 5/5] END classifier__bootstrap=False, classifier__max_depth=None, classifier__max_features=sqrt, classifier__n_estimators=200, classifier__random_state=200;, score=(train=1.000, test=0.562) total time=   1.0s\n",
      "[CV 1/5] END classifier__bootstrap=False, classifier__max_depth=None, classifier__max_features=sqrt, classifier__n_estimators=400, classifier__random_state=100;, score=(train=1.000, test=0.656) total time=   2.2s\n",
      "[CV 2/5] END classifier__bootstrap=False, classifier__max_depth=None, classifier__max_features=sqrt, classifier__n_estimators=400, classifier__random_state=100;, score=(train=1.000, test=0.625) total time=   2.1s\n",
      "[CV 3/5] END classifier__bootstrap=False, classifier__max_depth=None, classifier__max_features=sqrt, classifier__n_estimators=400, classifier__random_state=100;, score=(train=1.000, test=0.515) total time=   2.4s\n",
      "[CV 4/5] END classifier__bootstrap=False, classifier__max_depth=None, classifier__max_features=sqrt, classifier__n_estimators=400, classifier__random_state=100;, score=(train=1.000, test=0.656) total time=   2.1s\n",
      "[CV 5/5] END classifier__bootstrap=False, classifier__max_depth=None, classifier__max_features=sqrt, classifier__n_estimators=400, classifier__random_state=100;, score=(train=1.000, test=0.625) total time=   2.5s\n"
     ]
    },
    {
     "name": "stdout",
     "output_type": "stream",
     "text": [
      "[CV 1/5] END classifier__bootstrap=False, classifier__max_depth=None, classifier__max_features=sqrt, classifier__n_estimators=400, classifier__random_state=200;, score=(train=1.000, test=0.656) total time=   2.8s\n",
      "[CV 2/5] END classifier__bootstrap=False, classifier__max_depth=None, classifier__max_features=sqrt, classifier__n_estimators=400, classifier__random_state=200;, score=(train=1.000, test=0.625) total time=   2.2s\n",
      "[CV 3/5] END classifier__bootstrap=False, classifier__max_depth=None, classifier__max_features=sqrt, classifier__n_estimators=400, classifier__random_state=200;, score=(train=1.000, test=0.485) total time=   2.1s\n",
      "[CV 4/5] END classifier__bootstrap=False, classifier__max_depth=None, classifier__max_features=sqrt, classifier__n_estimators=400, classifier__random_state=200;, score=(train=1.000, test=0.625) total time=   2.3s\n",
      "[CV 5/5] END classifier__bootstrap=False, classifier__max_depth=None, classifier__max_features=sqrt, classifier__n_estimators=400, classifier__random_state=200;, score=(train=1.000, test=0.562) total time=   2.2s\n"
     ]
    },
    {
     "data": {
      "text/plain": [
       "GridSearchCV(estimator=Pipeline(steps=[('balancing_over',\n",
       "                                        SMOTE(sampling_strategy=0.2)),\n",
       "                                       ('balancing_under',\n",
       "                                        RandomUnderSampler(sampling_strategy=0.75)),\n",
       "                                       ('classifier',\n",
       "                                        RandomForestClassifier(random_state=42))]),\n",
       "             param_grid={'classifier__bootstrap': [True, False],\n",
       "                         'classifier__max_depth': [10, 20, None],\n",
       "                         'classifier__max_features': ['auto', 'sqrt'],\n",
       "                         'classifier__n_estimators': [200, 400],\n",
       "                         'classifier__random_state': [100, 200]},\n",
       "             return_train_score=True, scoring='recall', verbose=3)"
      ]
     },
     "execution_count": 38,
     "metadata": {},
     "output_type": "execute_result"
    }
   ],
   "source": [
    "#search best param for model\n",
    "clf = GridSearchCV(estimator= model_forest,\n",
    "                   param_grid= param_grid,\n",
    "                   scoring ='recall',\n",
    "                   return_train_score=True,\n",
    "                   verbose=3)\n",
    "\n",
    "clf.fit(X_train, y_train)"
   ]
  },
  {
   "cell_type": "code",
   "execution_count": 39,
   "id": "42ccc1ec",
   "metadata": {},
   "outputs": [
    {
     "name": "stdout",
     "output_type": "stream",
     "text": [
      "Pipeline(steps=[('balancing_over', SMOTE(sampling_strategy=0.2)),\n",
      "                ('balancing_under', RandomUnderSampler(sampling_strategy=0.75)),\n",
      "                ('classifier',\n",
      "                 RandomForestClassifier(max_depth=10, n_estimators=200,\n",
      "                                        random_state=100))])\n"
     ]
    }
   ],
   "source": [
    "best_estim= clf.best_estimator_\n",
    "print(best_estim)"
   ]
  },
  {
   "cell_type": "markdown",
   "id": "4112ff9f",
   "metadata": {},
   "source": [
    "### Save model"
   ]
  },
  {
   "cell_type": "code",
   "execution_count": 40,
   "id": "22ae614f",
   "metadata": {},
   "outputs": [],
   "source": [
    "## Save new model in Pickle ##\n",
    "\n",
    "with open(\"model_forest_final.pkl\", \"wb\") as file:\n",
    "    pickle.dump(best_estim, file)"
   ]
  },
  {
   "cell_type": "code",
   "execution_count": 41,
   "id": "c6a27f51",
   "metadata": {},
   "outputs": [],
   "source": [
    "## Import pickle ##\n",
    "\n",
    "with open('model_forest_final.pkl', 'rb') as file:\n",
    "    pipe_model_final = pickle.load(file)"
   ]
  },
  {
   "cell_type": "code",
   "execution_count": 42,
   "id": "93215044",
   "metadata": {},
   "outputs": [
    {
     "data": {
      "text/plain": [
       "Pipeline(steps=[('balancing_over', SMOTE(sampling_strategy=0.2)),\n",
       "                ('balancing_under', RandomUnderSampler(sampling_strategy=0.75)),\n",
       "                ('classifier',\n",
       "                 RandomForestClassifier(max_depth=10, n_estimators=200,\n",
       "                                        random_state=100))])"
      ]
     },
     "execution_count": 42,
     "metadata": {},
     "output_type": "execute_result"
    }
   ],
   "source": [
    "pipe_model_final"
   ]
  },
  {
   "cell_type": "markdown",
   "id": "0624b5be",
   "metadata": {},
   "source": [
    "### After GridSearchCV, I put new model with best hyperparameters"
   ]
  },
  {
   "cell_type": "code",
   "execution_count": 44,
   "id": "23c9f6fe",
   "metadata": {},
   "outputs": [],
   "source": [
    "# Define the target and split data for train_test\n",
    "y_2= data_full['Bankrupt?_x']\n",
    "X_2= data_full.drop('Bankrupt?_x', axis=1)\n",
    "\n",
    "X_2_train, X_2_test, y_2_train, y_2_test = train_test_split(X_2, y_2,\n",
    "                                                    test_size= 0.3,\n",
    "                                                    random_state=0)"
   ]
  },
  {
   "cell_type": "code",
   "execution_count": 46,
   "id": "b5133ab4",
   "metadata": {},
   "outputs": [
    {
     "data": {
      "text/plain": [
       "0    6599\n",
       "1     220\n",
       "Name: Bankrupt?_x, dtype: int64"
      ]
     },
     "execution_count": 46,
     "metadata": {},
     "output_type": "execute_result"
    }
   ],
   "source": [
    "y_2.value_counts()"
   ]
  },
  {
   "cell_type": "code",
   "execution_count": 47,
   "id": "0a48dc74",
   "metadata": {},
   "outputs": [],
   "source": [
    "## fit model ##\n",
    "train_pipe_model_final = pipe_model_final.fit(X_2_train, y_2_train)"
   ]
  },
  {
   "cell_type": "code",
   "execution_count": 48,
   "id": "28ecb664",
   "metadata": {},
   "outputs": [
    {
     "data": {
      "text/plain": [
       "Pipeline(steps=[('balancing_over', SMOTE(sampling_strategy=0.2)),\n",
       "                ('balancing_under', RandomUnderSampler(sampling_strategy=0.75)),\n",
       "                ('classifier',\n",
       "                 RandomForestClassifier(max_depth=10, n_estimators=200,\n",
       "                                        random_state=100))])"
      ]
     },
     "execution_count": 48,
     "metadata": {},
     "output_type": "execute_result"
    }
   ],
   "source": [
    "train_pipe_model_final"
   ]
  },
  {
   "cell_type": "code",
   "execution_count": 49,
   "id": "5004d5af",
   "metadata": {
    "scrolled": true
   },
   "outputs": [
    {
     "data": {
      "text/plain": [
       "array([0, 0, 0, ..., 0, 0, 0], dtype=int64)"
      ]
     },
     "execution_count": 49,
     "metadata": {},
     "output_type": "execute_result"
    }
   ],
   "source": [
    "## See results ##\n",
    "y_2_pred = train_pipe_model_final.predict(X_2_test)\n",
    "y_2_pred"
   ]
  },
  {
   "cell_type": "code",
   "execution_count": 50,
   "id": "ffb66f59",
   "metadata": {},
   "outputs": [
    {
     "data": {
      "text/html": [
       "<div>\n",
       "<style scoped>\n",
       "    .dataframe tbody tr th:only-of-type {\n",
       "        vertical-align: middle;\n",
       "    }\n",
       "\n",
       "    .dataframe tbody tr th {\n",
       "        vertical-align: top;\n",
       "    }\n",
       "\n",
       "    .dataframe thead th {\n",
       "        text-align: right;\n",
       "    }\n",
       "</style>\n",
       "<table border=\"1\" class=\"dataframe\">\n",
       "  <thead>\n",
       "    <tr style=\"text-align: right;\">\n",
       "      <th></th>\n",
       "      <th>Real_Value</th>\n",
       "      <th>Prediction_Value</th>\n",
       "    </tr>\n",
       "  </thead>\n",
       "  <tbody>\n",
       "    <tr>\n",
       "      <th>4929</th>\n",
       "      <td>0</td>\n",
       "      <td>0</td>\n",
       "    </tr>\n",
       "    <tr>\n",
       "      <th>6424</th>\n",
       "      <td>0</td>\n",
       "      <td>0</td>\n",
       "    </tr>\n",
       "    <tr>\n",
       "      <th>3807</th>\n",
       "      <td>0</td>\n",
       "      <td>0</td>\n",
       "    </tr>\n",
       "    <tr>\n",
       "      <th>2011</th>\n",
       "      <td>0</td>\n",
       "      <td>0</td>\n",
       "    </tr>\n",
       "    <tr>\n",
       "      <th>6728</th>\n",
       "      <td>1</td>\n",
       "      <td>0</td>\n",
       "    </tr>\n",
       "    <tr>\n",
       "      <th>...</th>\n",
       "      <td>...</td>\n",
       "      <td>...</td>\n",
       "    </tr>\n",
       "    <tr>\n",
       "      <th>5809</th>\n",
       "      <td>0</td>\n",
       "      <td>0</td>\n",
       "    </tr>\n",
       "    <tr>\n",
       "      <th>5961</th>\n",
       "      <td>0</td>\n",
       "      <td>0</td>\n",
       "    </tr>\n",
       "    <tr>\n",
       "      <th>4623</th>\n",
       "      <td>0</td>\n",
       "      <td>0</td>\n",
       "    </tr>\n",
       "    <tr>\n",
       "      <th>4783</th>\n",
       "      <td>0</td>\n",
       "      <td>0</td>\n",
       "    </tr>\n",
       "    <tr>\n",
       "      <th>4502</th>\n",
       "      <td>0</td>\n",
       "      <td>0</td>\n",
       "    </tr>\n",
       "  </tbody>\n",
       "</table>\n",
       "<p>2046 rows × 2 columns</p>\n",
       "</div>"
      ],
      "text/plain": [
       "      Real_Value  Prediction_Value\n",
       "4929           0                 0\n",
       "6424           0                 0\n",
       "3807           0                 0\n",
       "2011           0                 0\n",
       "6728           1                 0\n",
       "...          ...               ...\n",
       "5809           0                 0\n",
       "5961           0                 0\n",
       "4623           0                 0\n",
       "4783           0                 0\n",
       "4502           0                 0\n",
       "\n",
       "[2046 rows x 2 columns]"
      ]
     },
     "execution_count": 50,
     "metadata": {},
     "output_type": "execute_result"
    }
   ],
   "source": [
    "#Look the prediction\n",
    "prediction_df_2 = pd.DataFrame()\n",
    "prediction_df_2['Real_Value'] = y_2_test\n",
    "prediction_df_2['Prediction_Value'] = y_2_pred\n",
    "prediction_df_2"
   ]
  },
  {
   "cell_type": "code",
   "execution_count": 51,
   "id": "20038afc",
   "metadata": {},
   "outputs": [
    {
     "name": "stdout",
     "output_type": "stream",
     "text": [
      "              precision    recall  f1-score   support\n",
      "\n",
      "           0       0.99      0.91      0.95      1987\n",
      "           1       0.18      0.64      0.28        59\n",
      "\n",
      "    accuracy                           0.91      2046\n",
      "   macro avg       0.58      0.78      0.62      2046\n",
      "weighted avg       0.97      0.91      0.93      2046\n",
      "\n"
     ]
    }
   ],
   "source": [
    "print(classification_report(y_2_test, y_2_pred))"
   ]
  },
  {
   "cell_type": "code",
   "execution_count": 57,
   "id": "5097644b",
   "metadata": {
    "scrolled": false
   },
   "outputs": [
    {
     "data": {
      "image/png": "[encoded data removed]",
      "text/plain": [
       "<Figure size 640x480 with 2 Axes>"
      ]
     },
     "metadata": {},
     "output_type": "display_data"
    }
   ],
   "source": [
    "#Confusion matrice\n",
    "conf_mat_2 = confusion_matrix(y_2_test, y_2_pred)\n",
    "sns.heatmap(conf_mat_2, annot=True, fmt=\"d\", cmap=\"Reds\")\n",
    "plt.title(\"Confusion matrix after Gridsearchcv (RandomForestClassifier)\")\n",
    "plt.xlabel(\"Predicted\")\n",
    "plt.ylabel(\"Actual\")\n",
    "plt.show()"
   ]
  },
  {
   "cell_type": "code",
   "execution_count": 58,
   "id": "75d67590",
   "metadata": {},
   "outputs": [
    {
     "name": "stdout",
     "output_type": "stream",
     "text": [
      "[0.         0.08706593 1.        ] [0.        0.6440678 1.       ]\n",
      "77.85009340373445\n"
     ]
    },
    {
     "data": {
      "image/png": "[encoded data removed]",
      "text/plain": [
       "<Figure size 640x480 with 1 Axes>"
      ]
     },
     "metadata": {},
     "output_type": "display_data"
    }
   ],
   "source": [
    "## roc curve ##\n",
    "\n",
    "fp, tp, thresholds=roc_curve(y_2_test,y_2_pred,pos_label=1)\n",
    "print(fp, tp)\n",
    "AUC=auc(fp, tp)*100\n",
    "print(AUC)\n",
    "\n",
    "#tracer tp en fonction de fp\n",
    "plt.plot(fp, tp, color='blue',label = 'AUC = %0.2f' % AUC)\n",
    "plt.title('Receiver Operating Characteristic')\n",
    "\n",
    "#plt.plot(fpr, tpr, 'b', label = 'AUC = %0.2f' % AUC)\n",
    "plt.legend(loc = 'lower right')\n",
    "plt.plot([0, 1], [0, 1],'r--')\n",
    "plt.xlim([0, 1])\n",
    "plt.ylim([0, 1])\n",
    "plt.ylabel('True Positive Rate')\n",
    "plt.xlabel('False Positive Rate')\n",
    "plt.show()"
   ]
  },
  {
   "cell_type": "code",
   "execution_count": 59,
   "id": "47324652",
   "metadata": {},
   "outputs": [],
   "source": [
    "## Save RandomForest with best hyperparameters in Pickle ##\n",
    "\n",
    "with open(\"True_model_RandomForest.pkl\", \"wb\") as file:\n",
    "    pickle.dump(train_pipe_model_final, file)"
   ]
  },
  {
   "cell_type": "markdown",
   "id": "1fd57923",
   "metadata": {},
   "source": [
    "## Implementation of unit tests exemple"
   ]
  },
  {
   "cell_type": "code",
   "execution_count": 38,
   "id": "ce7d6568",
   "metadata": {},
   "outputs": [],
   "source": [
    "def test_df_out(df):\n",
    "    if len(df.columns) == 13:\n",
    "        return True\n",
    "    else:\n",
    "        return False"
   ]
  },
  {
   "cell_type": "code",
   "execution_count": 39,
   "id": "a838e533",
   "metadata": {},
   "outputs": [
    {
     "data": {
      "text/plain": [
       "False"
      ]
     },
     "execution_count": 39,
     "metadata": {},
     "output_type": "execute_result"
    }
   ],
   "source": [
    "test_df_out(df)"
   ]
  },
  {
   "cell_type": "code",
   "execution_count": 40,
   "id": "b7bdc234",
   "metadata": {},
   "outputs": [
    {
     "data": {
      "text/plain": [
       "True"
      ]
     },
     "execution_count": 40,
     "metadata": {},
     "output_type": "execute_result"
    }
   ],
   "source": [
    "test_df_out(data_full)"
   ]
  },
  {
   "cell_type": "code",
   "execution_count": null,
   "id": "d58cbe54",
   "metadata": {},
   "outputs": [],
   "source": []
  },
  {
   "cell_type": "code",
   "execution_count": null,
   "id": "624d1405",
   "metadata": {},
   "outputs": [],
   "source": []
  }
 ],
 "metadata": {
  "kernelspec": {
   "display_name": "Python 3 (ipykernel)",
   "language": "python",
   "name": "python3"
  },
  "language_info": {
   "codemirror_mode": {
    "name": "ipython",
    "version": 3
   },
   "file_extension": ".py",
   "mimetype": "text/x-python",
   "name": "python",
   "nbconvert_exporter": "python",
   "pygments_lexer": "ipython3",
   "version": "3.9.13"
  },
  "toc": {
   "base_numbering": 1,
   "nav_menu": {},
   "number_sections": true,
   "sideBar": true,
   "skip_h1_title": false,
   "title_cell": "Table of Contents",
   "title_sidebar": "Contents",
   "toc_cell": true,
   "toc_position": {},
   "toc_section_display": true,
   "toc_window_display": false
  },
  "varInspector": {
   "cols": {
    "lenName": 16,
    "lenType": 16,
    "lenVar": 40
   },
   "kernels_config": {
    "python": {
     "delete_cmd_postfix": "",
     "delete_cmd_prefix": "del ",
     "library": "var_list.py",
     "varRefreshCmd": "print(var_dic_list())"
    },
    "r": {
     "delete_cmd_postfix": ") ",
     "delete_cmd_prefix": "rm(",
     "library": "var_list.r",
     "varRefreshCmd": "cat(var_dic_list()) "
    }
   },
   "types_to_exclude": [
    "module",
    "function",
    "builtin_function_or_method",
    "instance",
    "_Feature"
   ],
   "window_display": false
  }
 },
 "nbformat": 4,
 "nbformat_minor": 5
}
